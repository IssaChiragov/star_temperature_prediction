{
 "cells": [
  {
   "cell_type": "markdown",
   "id": "25e2936f",
   "metadata": {
    "ExecuteTime": {
     "end_time": "2022-05-05T04:58:05.692448Z",
     "start_time": "2022-05-05T04:58:05.688565Z"
    }
   },
   "source": [
    "# Прогнозирование температуры звезды"
   ]
  },
  {
   "cell_type": "markdown",
   "id": "628ff120",
   "metadata": {},
   "source": [
    "**Заказчик исследования:** обсерватория «Небо на ладони».\n",
    "\n",
    "**Задача:** придумать, как с помощью нейросети определять температуру на поверхности обнаруженных звёзд.\n",
    "\n",
    "Обычно для расчёта температуры учёные пользуются следующими методами:\n",
    "\n",
    "- Закон смещения Вина.\n",
    "- Закон Стефана-Больцмана.\n",
    "- Спектральный анализ.\n",
    "\n",
    "Каждый из них имеет плюсы и минусы. Обсерватория хочет внедрить технологии машинного обучения для предсказания температуры звёзд, надеясь, что этот метод будет наиболее точным и удобным. В базе обсерватории есть характеристики уже изученных 240 звёзд.\n",
    "\n",
    "**Характеристики:**\n",
    "\n",
    "- Относительная светимость L/Lo — светимость звезды относительно Солнца.\n",
    "- Относительный радиус R/Ro — радиус звезды относительно радиуса Солнца.\n",
    "- Абсолютная звёздная величина Mv — физическая величина, характеризующая блеск звезды.\n",
    "- Звёздный цвет (white, red, blue, yellow, yellow-orange и др.) — цвет звезды, который определяют на основе спектрального анализа.\n",
    "- Тип звезды.\n",
    "- Абсолютная температура T(K) — температура на поверхности звезды в Кельвинах."
   ]
  },
  {
   "cell_type": "code",
   "execution_count": 1,
   "id": "465bf1e1",
   "metadata": {},
   "outputs": [],
   "source": [
    "!pip install phik -q\n",
    "!pip install scikit-learn==1.1.3 -q"
   ]
  },
  {
   "cell_type": "code",
   "execution_count": 2,
   "id": "spectacular-folder",
   "metadata": {},
   "outputs": [],
   "source": [
    "import warnings\n",
    "import pandas as pd\n",
    "import numpy as np\n",
    "from math import ceil\n",
    "import seaborn as sns\n",
    "import matplotlib.pyplot as plt\n",
    "from sklearn.model_selection import train_test_split\n",
    "from sklearn.preprocessing import OneHotEncoder, StandardScaler\n",
    "from sklearn.compose import ColumnTransformer\n",
    "from sklearn.pipeline import Pipeline\n",
    "from sklearn.metrics import mean_squared_error\n",
    "import torch\n",
    "import torch.nn as nn\n",
    "from torch.optim import Adam \n",
    "from phik import phik_matrix\n",
    "warnings.filterwarnings(\"ignore\", category=FutureWarning)"
   ]
  },
  {
   "cell_type": "code",
   "execution_count": 3,
   "id": "flush-dream",
   "metadata": {},
   "outputs": [],
   "source": [
    "#Построение графиков и анализ количественных признаков.\n",
    "def num(column):\n",
    "    print(column,  '\\n')\n",
    "    print(data[column].describe())\n",
    "    \n",
    "    figure, axis = plt.subplots(1, 2, figsize=(13,5))\n",
    "    \n",
    "    plt.style.use('bmh')\n",
    "    \n",
    "    axis[0].hist(data[column])\n",
    "    axis[0].set_title('График распределения значений')\n",
    "    \n",
    "    axis[1].boxplot(data[column])\n",
    "    axis[1].set_title('График размаха значений')\n",
    "    \n",
    "    figure.suptitle(column)\n",
    "    plt.show()"
   ]
  },
  {
   "cell_type": "code",
   "execution_count": 4,
   "id": "d774922c",
   "metadata": {},
   "outputs": [],
   "source": [
    "#Построение графиков и анализ категориальных признаков.\n",
    "def cat(column):\n",
    "    print(column, '\\n')\n",
    "    print(data[column].value_counts())\n",
    "    \n",
    "    names = list(data[column].value_counts().index)\n",
    "    values = list(data[column].value_counts().values)\n",
    "\n",
    "    figure, axis = plt.subplots(figsize=(5, 5))\n",
    "    \n",
    "    axis.barh(names, values)\n",
    "    \n",
    "    plt.style.use('bmh')\n",
    "    \n",
    "    figure.suptitle(column)\n",
    "    plt.show()"
   ]
  },
  {
   "cell_type": "code",
   "execution_count": 5,
   "id": "e91f053b",
   "metadata": {},
   "outputs": [],
   "source": [
    "#Построение графиков по нейронным сетям\n",
    "def build_graphic():\n",
    "    figure, axis = plt.subplots(1, 1, figsize=(10,8))\n",
    "    \n",
    "    plt.style.use('bmh')\n",
    "\n",
    "    axis.bar(x = y_test.index, height = y_test.values, width = 3, label = 'Факт')\n",
    "    axis.bar(x = y_test.index, height = test_preds.int(), width = 5, alpha=0.5, label = 'Прогноз')\n",
    "\n",
    "    plt.xlabel(\"Номер звезды в таблице данных\")\n",
    "    plt.ylabel(\"Температура звезды\")\n",
    "\n",
    "    figure.suptitle('График')\n",
    "    plt.legend()\n",
    "    plt.show()"
   ]
  },
  {
   "cell_type": "markdown",
   "id": "corresponding-armstrong",
   "metadata": {
    "ExecuteTime": {
     "end_time": "2022-05-05T04:58:05.692448Z",
     "start_time": "2022-05-05T04:58:05.688565Z"
    }
   },
   "source": [
    "## Загрузка данных"
   ]
  },
  {
   "cell_type": "code",
   "execution_count": 6,
   "id": "c23da368",
   "metadata": {},
   "outputs": [
    {
     "data": {
      "text/html": [
       "<div>\n",
       "<style scoped>\n",
       "    .dataframe tbody tr th:only-of-type {\n",
       "        vertical-align: middle;\n",
       "    }\n",
       "\n",
       "    .dataframe tbody tr th {\n",
       "        vertical-align: top;\n",
       "    }\n",
       "\n",
       "    .dataframe thead th {\n",
       "        text-align: right;\n",
       "    }\n",
       "</style>\n",
       "<table border=\"1\" class=\"dataframe\">\n",
       "  <thead>\n",
       "    <tr style=\"text-align: right;\">\n",
       "      <th></th>\n",
       "      <th>Temperature (K)</th>\n",
       "      <th>Luminosity(L/Lo)</th>\n",
       "      <th>Radius(R/Ro)</th>\n",
       "      <th>Absolute magnitude(Mv)</th>\n",
       "      <th>Star type</th>\n",
       "      <th>Star color</th>\n",
       "    </tr>\n",
       "  </thead>\n",
       "  <tbody>\n",
       "    <tr>\n",
       "      <th>0</th>\n",
       "      <td>3068</td>\n",
       "      <td>0.002400</td>\n",
       "      <td>0.1700</td>\n",
       "      <td>16.12</td>\n",
       "      <td>0</td>\n",
       "      <td>Red</td>\n",
       "    </tr>\n",
       "    <tr>\n",
       "      <th>1</th>\n",
       "      <td>3042</td>\n",
       "      <td>0.000500</td>\n",
       "      <td>0.1542</td>\n",
       "      <td>16.60</td>\n",
       "      <td>0</td>\n",
       "      <td>Red</td>\n",
       "    </tr>\n",
       "    <tr>\n",
       "      <th>2</th>\n",
       "      <td>2600</td>\n",
       "      <td>0.000300</td>\n",
       "      <td>0.1020</td>\n",
       "      <td>18.70</td>\n",
       "      <td>0</td>\n",
       "      <td>Red</td>\n",
       "    </tr>\n",
       "    <tr>\n",
       "      <th>3</th>\n",
       "      <td>2800</td>\n",
       "      <td>0.000200</td>\n",
       "      <td>0.1600</td>\n",
       "      <td>16.65</td>\n",
       "      <td>0</td>\n",
       "      <td>Red</td>\n",
       "    </tr>\n",
       "    <tr>\n",
       "      <th>4</th>\n",
       "      <td>1939</td>\n",
       "      <td>0.000138</td>\n",
       "      <td>0.1030</td>\n",
       "      <td>20.06</td>\n",
       "      <td>0</td>\n",
       "      <td>Red</td>\n",
       "    </tr>\n",
       "  </tbody>\n",
       "</table>\n",
       "</div>"
      ],
      "text/plain": [
       "   Temperature (K)  Luminosity(L/Lo)  Radius(R/Ro)  Absolute magnitude(Mv)  \\\n",
       "0             3068          0.002400        0.1700                   16.12   \n",
       "1             3042          0.000500        0.1542                   16.60   \n",
       "2             2600          0.000300        0.1020                   18.70   \n",
       "3             2800          0.000200        0.1600                   16.65   \n",
       "4             1939          0.000138        0.1030                   20.06   \n",
       "\n",
       "   Star type Star color  \n",
       "0          0        Red  \n",
       "1          0        Red  \n",
       "2          0        Red  \n",
       "3          0        Red  \n",
       "4          0        Red  "
      ]
     },
     "execution_count": 6,
     "metadata": {},
     "output_type": "execute_result"
    }
   ],
   "source": [
    "data = pd.read_csv('/datasets/6_class.csv', index_col=0)\n",
    "data.head()"
   ]
  },
  {
   "cell_type": "code",
   "execution_count": 7,
   "id": "1cbf52f0",
   "metadata": {},
   "outputs": [
    {
     "name": "stdout",
     "output_type": "stream",
     "text": [
      "<class 'pandas.core.frame.DataFrame'>\n",
      "Int64Index: 240 entries, 0 to 239\n",
      "Data columns (total 6 columns):\n",
      " #   Column                  Non-Null Count  Dtype  \n",
      "---  ------                  --------------  -----  \n",
      " 0   Temperature (K)         240 non-null    int64  \n",
      " 1   Luminosity(L/Lo)        240 non-null    float64\n",
      " 2   Radius(R/Ro)            240 non-null    float64\n",
      " 3   Absolute magnitude(Mv)  240 non-null    float64\n",
      " 4   Star type               240 non-null    int64  \n",
      " 5   Star color              240 non-null    object \n",
      "dtypes: float64(3), int64(2), object(1)\n",
      "memory usage: 13.1+ KB\n"
     ]
    }
   ],
   "source": [
    "data.info()"
   ]
  },
  {
   "cell_type": "markdown",
   "id": "simple-subdivision",
   "metadata": {},
   "source": [
    "## Предобработка и анализ данных"
   ]
  },
  {
   "cell_type": "markdown",
   "id": "911448f2",
   "metadata": {},
   "source": [
    "### Проверка на дубликаты"
   ]
  },
  {
   "cell_type": "code",
   "execution_count": 8,
   "id": "fbfee54f",
   "metadata": {},
   "outputs": [
    {
     "data": {
      "text/plain": [
       "0"
      ]
     },
     "execution_count": 8,
     "metadata": {},
     "output_type": "execute_result"
    }
   ],
   "source": [
    "data.duplicated().sum()"
   ]
  },
  {
   "cell_type": "markdown",
   "id": "6e961c6b",
   "metadata": {},
   "source": [
    "### Анализ количественных признаков"
   ]
  },
  {
   "cell_type": "code",
   "execution_count": 9,
   "id": "983f06e6",
   "metadata": {},
   "outputs": [],
   "source": [
    "numeric = ['Temperature (K)', 'Luminosity(L/Lo)', 'Radius(R/Ro)', 'Absolute magnitude(Mv)']"
   ]
  },
  {
   "cell_type": "code",
   "execution_count": 10,
   "id": "7259062d",
   "metadata": {},
   "outputs": [
    {
     "name": "stdout",
     "output_type": "stream",
     "text": [
      "Temperature (K) \n",
      "\n",
      "count      240.000000\n",
      "mean     10497.462500\n",
      "std       9552.425037\n",
      "min       1939.000000\n",
      "25%       3344.250000\n",
      "50%       5776.000000\n",
      "75%      15055.500000\n",
      "max      40000.000000\n",
      "Name: Temperature (K), dtype: float64\n"
     ]
    },
    {
     "data": {
      "image/png": "[encoded data removed]",
      "text/plain": [
       "<Figure size 936x360 with 2 Axes>"
      ]
     },
     "metadata": {
      "needs_background": "light"
     },
     "output_type": "display_data"
    },
    {
     "name": "stdout",
     "output_type": "stream",
     "text": [
      "Luminosity(L/Lo) \n",
      "\n",
      "count       240.000000\n",
      "mean     107188.361635\n",
      "std      179432.244940\n",
      "min           0.000080\n",
      "25%           0.000865\n",
      "50%           0.070500\n",
      "75%      198050.000000\n",
      "max      849420.000000\n",
      "Name: Luminosity(L/Lo), dtype: float64\n"
     ]
    },
    {
     "data": {
      "image/png": "[encoded data removed]",
      "text/plain": [
       "<Figure size 936x360 with 2 Axes>"
      ]
     },
     "metadata": {
      "needs_background": "light"
     },
     "output_type": "display_data"
    },
    {
     "name": "stdout",
     "output_type": "stream",
     "text": [
      "Radius(R/Ro) \n",
      "\n",
      "count     240.000000\n",
      "mean      237.157781\n",
      "std       517.155763\n",
      "min         0.008400\n",
      "25%         0.102750\n",
      "50%         0.762500\n",
      "75%        42.750000\n",
      "max      1948.500000\n",
      "Name: Radius(R/Ro), dtype: float64\n"
     ]
    },
    {
     "data": {
      "image/png": "[encoded data removed]",
      "text/plain": [
       "<Figure size 936x360 with 2 Axes>"
      ]
     },
     "metadata": {
      "needs_background": "light"
     },
     "output_type": "display_data"
    },
    {
     "name": "stdout",
     "output_type": "stream",
     "text": [
      "Absolute magnitude(Mv) \n",
      "\n",
      "count    240.000000\n",
      "mean       4.382396\n",
      "std       10.532512\n",
      "min      -11.920000\n",
      "25%       -6.232500\n",
      "50%        8.313000\n",
      "75%       13.697500\n",
      "max       20.060000\n",
      "Name: Absolute magnitude(Mv), dtype: float64\n"
     ]
    },
    {
     "data": {
      "image/png": "[encoded data removed]",
      "text/plain": [
       "<Figure size 936x360 with 2 Axes>"
      ]
     },
     "metadata": {
      "needs_background": "light"
     },
     "output_type": "display_data"
    }
   ],
   "source": [
    "for col in numeric:\n",
    "    num(col)"
   ]
  },
  {
   "cell_type": "code",
   "execution_count": 11,
   "id": "f2295f1b",
   "metadata": {},
   "outputs": [],
   "source": [
    "# для удобства избавимся от скобок в названиях\n",
    "data = data.rename(columns={'Temperature (K)': 'temperature', \n",
    "                            'Luminosity(L/Lo)': 'luminosity',\n",
    "                            'Radius(R/Ro)': 'radius',\n",
    "                            'Absolute magnitude(Mv)': 'absolute_magnitude'})"
   ]
  },
  {
   "cell_type": "markdown",
   "id": "91db744e",
   "metadata": {},
   "source": [
    "Данные с температурой распределены неравномерно, но т.к. это целевой признак, то лучше ничего там не удалять.\n",
    "\n",
    "В данных о радиусе большинство значений околонулевых и не превышающих 250, все данные о радиусах, которые превышают 250, относятся к звездам 5 типа."
   ]
  },
  {
   "cell_type": "code",
   "execution_count": 12,
   "id": "98fa5d04",
   "metadata": {
    "scrolled": true
   },
   "outputs": [
    {
     "data": {
      "text/html": [
       "<div>\n",
       "<style scoped>\n",
       "    .dataframe tbody tr th:only-of-type {\n",
       "        vertical-align: middle;\n",
       "    }\n",
       "\n",
       "    .dataframe tbody tr th {\n",
       "        vertical-align: top;\n",
       "    }\n",
       "\n",
       "    .dataframe thead th {\n",
       "        text-align: right;\n",
       "    }\n",
       "</style>\n",
       "<table border=\"1\" class=\"dataframe\">\n",
       "  <thead>\n",
       "    <tr style=\"text-align: right;\">\n",
       "      <th></th>\n",
       "      <th>temperature</th>\n",
       "      <th>luminosity</th>\n",
       "      <th>radius</th>\n",
       "      <th>absolute_magnitude</th>\n",
       "      <th>Star type</th>\n",
       "      <th>Star color</th>\n",
       "    </tr>\n",
       "  </thead>\n",
       "  <tbody>\n",
       "    <tr>\n",
       "      <th>50</th>\n",
       "      <td>3490</td>\n",
       "      <td>270000.0</td>\n",
       "      <td>1520.0</td>\n",
       "      <td>-9.40</td>\n",
       "      <td>5</td>\n",
       "      <td>Red</td>\n",
       "    </tr>\n",
       "    <tr>\n",
       "      <th>51</th>\n",
       "      <td>3750</td>\n",
       "      <td>283000.0</td>\n",
       "      <td>1260.0</td>\n",
       "      <td>-7.63</td>\n",
       "      <td>5</td>\n",
       "      <td>Red</td>\n",
       "    </tr>\n",
       "    <tr>\n",
       "      <th>52</th>\n",
       "      <td>3834</td>\n",
       "      <td>272000.0</td>\n",
       "      <td>1183.0</td>\n",
       "      <td>-9.20</td>\n",
       "      <td>5</td>\n",
       "      <td>Red</td>\n",
       "    </tr>\n",
       "    <tr>\n",
       "      <th>53</th>\n",
       "      <td>3749</td>\n",
       "      <td>550000.0</td>\n",
       "      <td>1648.0</td>\n",
       "      <td>-8.05</td>\n",
       "      <td>5</td>\n",
       "      <td>Orange</td>\n",
       "    </tr>\n",
       "    <tr>\n",
       "      <th>54</th>\n",
       "      <td>3650</td>\n",
       "      <td>310000.0</td>\n",
       "      <td>1324.0</td>\n",
       "      <td>-7.79</td>\n",
       "      <td>5</td>\n",
       "      <td>Red</td>\n",
       "    </tr>\n",
       "    <tr>\n",
       "      <th>55</th>\n",
       "      <td>3450</td>\n",
       "      <td>263000.0</td>\n",
       "      <td>1349.0</td>\n",
       "      <td>-11.75</td>\n",
       "      <td>5</td>\n",
       "      <td>Red</td>\n",
       "    </tr>\n",
       "    <tr>\n",
       "      <th>56</th>\n",
       "      <td>3660</td>\n",
       "      <td>363000.0</td>\n",
       "      <td>1673.0</td>\n",
       "      <td>-11.92</td>\n",
       "      <td>5</td>\n",
       "      <td>Red</td>\n",
       "    </tr>\n",
       "    <tr>\n",
       "      <th>57</th>\n",
       "      <td>3450</td>\n",
       "      <td>174000.0</td>\n",
       "      <td>1284.0</td>\n",
       "      <td>-11.28</td>\n",
       "      <td>5</td>\n",
       "      <td>Red</td>\n",
       "    </tr>\n",
       "    <tr>\n",
       "      <th>58</th>\n",
       "      <td>3752</td>\n",
       "      <td>209000.0</td>\n",
       "      <td>955.0</td>\n",
       "      <td>-11.24</td>\n",
       "      <td>5</td>\n",
       "      <td>Red</td>\n",
       "    </tr>\n",
       "    <tr>\n",
       "      <th>59</th>\n",
       "      <td>3535</td>\n",
       "      <td>195000.0</td>\n",
       "      <td>1546.0</td>\n",
       "      <td>-11.36</td>\n",
       "      <td>5</td>\n",
       "      <td>Red</td>\n",
       "    </tr>\n",
       "    <tr>\n",
       "      <th>110</th>\n",
       "      <td>3459</td>\n",
       "      <td>100000.0</td>\n",
       "      <td>1289.0</td>\n",
       "      <td>-10.70</td>\n",
       "      <td>5</td>\n",
       "      <td>Red</td>\n",
       "    </tr>\n",
       "    <tr>\n",
       "      <th>111</th>\n",
       "      <td>3605</td>\n",
       "      <td>126000.0</td>\n",
       "      <td>1124.0</td>\n",
       "      <td>-10.81</td>\n",
       "      <td>5</td>\n",
       "      <td>Red</td>\n",
       "    </tr>\n",
       "    <tr>\n",
       "      <th>112</th>\n",
       "      <td>3615</td>\n",
       "      <td>200000.0</td>\n",
       "      <td>1635.0</td>\n",
       "      <td>-11.33</td>\n",
       "      <td>5</td>\n",
       "      <td>Red</td>\n",
       "    </tr>\n",
       "    <tr>\n",
       "      <th>113</th>\n",
       "      <td>3399</td>\n",
       "      <td>117000.0</td>\n",
       "      <td>1486.0</td>\n",
       "      <td>-10.92</td>\n",
       "      <td>5</td>\n",
       "      <td>Red</td>\n",
       "    </tr>\n",
       "    <tr>\n",
       "      <th>114</th>\n",
       "      <td>3610</td>\n",
       "      <td>132000.0</td>\n",
       "      <td>1522.0</td>\n",
       "      <td>-10.86</td>\n",
       "      <td>5</td>\n",
       "      <td>Red</td>\n",
       "    </tr>\n",
       "    <tr>\n",
       "      <th>115</th>\n",
       "      <td>3553</td>\n",
       "      <td>145000.0</td>\n",
       "      <td>1324.0</td>\n",
       "      <td>-11.03</td>\n",
       "      <td>5</td>\n",
       "      <td>Red</td>\n",
       "    </tr>\n",
       "    <tr>\n",
       "      <th>116</th>\n",
       "      <td>4015</td>\n",
       "      <td>282000.0</td>\n",
       "      <td>1534.0</td>\n",
       "      <td>-11.39</td>\n",
       "      <td>5</td>\n",
       "      <td>Red</td>\n",
       "    </tr>\n",
       "    <tr>\n",
       "      <th>117</th>\n",
       "      <td>3625</td>\n",
       "      <td>74000.0</td>\n",
       "      <td>876.0</td>\n",
       "      <td>-10.25</td>\n",
       "      <td>5</td>\n",
       "      <td>Red</td>\n",
       "    </tr>\n",
       "    <tr>\n",
       "      <th>118</th>\n",
       "      <td>6850</td>\n",
       "      <td>229000.0</td>\n",
       "      <td>1467.0</td>\n",
       "      <td>-10.07</td>\n",
       "      <td>5</td>\n",
       "      <td>Red</td>\n",
       "    </tr>\n",
       "    <tr>\n",
       "      <th>119</th>\n",
       "      <td>3780</td>\n",
       "      <td>200000.0</td>\n",
       "      <td>1324.0</td>\n",
       "      <td>-10.70</td>\n",
       "      <td>5</td>\n",
       "      <td>Red</td>\n",
       "    </tr>\n",
       "    <tr>\n",
       "      <th>170</th>\n",
       "      <td>3570</td>\n",
       "      <td>320000.0</td>\n",
       "      <td>1480.0</td>\n",
       "      <td>-7.58</td>\n",
       "      <td>5</td>\n",
       "      <td>Red</td>\n",
       "    </tr>\n",
       "    <tr>\n",
       "      <th>171</th>\n",
       "      <td>3500</td>\n",
       "      <td>138000.0</td>\n",
       "      <td>1420.0</td>\n",
       "      <td>-8.18</td>\n",
       "      <td>5</td>\n",
       "      <td>Red</td>\n",
       "    </tr>\n",
       "    <tr>\n",
       "      <th>172</th>\n",
       "      <td>4287</td>\n",
       "      <td>630000.0</td>\n",
       "      <td>1315.0</td>\n",
       "      <td>-9.20</td>\n",
       "      <td>5</td>\n",
       "      <td>Orange</td>\n",
       "    </tr>\n",
       "    <tr>\n",
       "      <th>173</th>\n",
       "      <td>26000</td>\n",
       "      <td>316000.0</td>\n",
       "      <td>1679.0</td>\n",
       "      <td>-9.10</td>\n",
       "      <td>5</td>\n",
       "      <td>Blue</td>\n",
       "    </tr>\n",
       "    <tr>\n",
       "      <th>174</th>\n",
       "      <td>3600</td>\n",
       "      <td>240000.0</td>\n",
       "      <td>1190.0</td>\n",
       "      <td>-7.89</td>\n",
       "      <td>5</td>\n",
       "      <td>Red</td>\n",
       "    </tr>\n",
       "    <tr>\n",
       "      <th>175</th>\n",
       "      <td>3614</td>\n",
       "      <td>145000.0</td>\n",
       "      <td>1553.0</td>\n",
       "      <td>-7.71</td>\n",
       "      <td>5</td>\n",
       "      <td>Red</td>\n",
       "    </tr>\n",
       "    <tr>\n",
       "      <th>176</th>\n",
       "      <td>18000</td>\n",
       "      <td>200000.0</td>\n",
       "      <td>1045.0</td>\n",
       "      <td>-8.30</td>\n",
       "      <td>5</td>\n",
       "      <td>Blue</td>\n",
       "    </tr>\n",
       "    <tr>\n",
       "      <th>177</th>\n",
       "      <td>11000</td>\n",
       "      <td>170000.0</td>\n",
       "      <td>1779.0</td>\n",
       "      <td>-9.90</td>\n",
       "      <td>5</td>\n",
       "      <td>Blue-white</td>\n",
       "    </tr>\n",
       "    <tr>\n",
       "      <th>178</th>\n",
       "      <td>12100</td>\n",
       "      <td>120000.0</td>\n",
       "      <td>708.9</td>\n",
       "      <td>-7.84</td>\n",
       "      <td>5</td>\n",
       "      <td>Blue-white</td>\n",
       "    </tr>\n",
       "    <tr>\n",
       "      <th>179</th>\n",
       "      <td>24490</td>\n",
       "      <td>248490.0</td>\n",
       "      <td>1134.5</td>\n",
       "      <td>-8.24</td>\n",
       "      <td>5</td>\n",
       "      <td>Blue-white</td>\n",
       "    </tr>\n",
       "    <tr>\n",
       "      <th>230</th>\n",
       "      <td>24145</td>\n",
       "      <td>382993.0</td>\n",
       "      <td>1494.0</td>\n",
       "      <td>-8.84</td>\n",
       "      <td>5</td>\n",
       "      <td>Blue-white</td>\n",
       "    </tr>\n",
       "    <tr>\n",
       "      <th>231</th>\n",
       "      <td>38234</td>\n",
       "      <td>272830.0</td>\n",
       "      <td>1356.0</td>\n",
       "      <td>-9.29</td>\n",
       "      <td>5</td>\n",
       "      <td>Blue</td>\n",
       "    </tr>\n",
       "    <tr>\n",
       "      <th>232</th>\n",
       "      <td>32489</td>\n",
       "      <td>648430.0</td>\n",
       "      <td>1948.5</td>\n",
       "      <td>-10.84</td>\n",
       "      <td>5</td>\n",
       "      <td>Blue</td>\n",
       "    </tr>\n",
       "    <tr>\n",
       "      <th>233</th>\n",
       "      <td>27739</td>\n",
       "      <td>849420.0</td>\n",
       "      <td>1252.0</td>\n",
       "      <td>-7.59</td>\n",
       "      <td>5</td>\n",
       "      <td>Blue-white</td>\n",
       "    </tr>\n",
       "    <tr>\n",
       "      <th>234</th>\n",
       "      <td>21904</td>\n",
       "      <td>748490.0</td>\n",
       "      <td>1130.0</td>\n",
       "      <td>-7.67</td>\n",
       "      <td>5</td>\n",
       "      <td>Blue-white</td>\n",
       "    </tr>\n",
       "    <tr>\n",
       "      <th>235</th>\n",
       "      <td>38940</td>\n",
       "      <td>374830.0</td>\n",
       "      <td>1356.0</td>\n",
       "      <td>-9.93</td>\n",
       "      <td>5</td>\n",
       "      <td>Blue</td>\n",
       "    </tr>\n",
       "    <tr>\n",
       "      <th>236</th>\n",
       "      <td>30839</td>\n",
       "      <td>834042.0</td>\n",
       "      <td>1194.0</td>\n",
       "      <td>-10.63</td>\n",
       "      <td>5</td>\n",
       "      <td>Blue</td>\n",
       "    </tr>\n",
       "    <tr>\n",
       "      <th>237</th>\n",
       "      <td>8829</td>\n",
       "      <td>537493.0</td>\n",
       "      <td>1423.0</td>\n",
       "      <td>-10.73</td>\n",
       "      <td>5</td>\n",
       "      <td>White</td>\n",
       "    </tr>\n",
       "    <tr>\n",
       "      <th>238</th>\n",
       "      <td>9235</td>\n",
       "      <td>404940.0</td>\n",
       "      <td>1112.0</td>\n",
       "      <td>-11.23</td>\n",
       "      <td>5</td>\n",
       "      <td>White</td>\n",
       "    </tr>\n",
       "    <tr>\n",
       "      <th>239</th>\n",
       "      <td>37882</td>\n",
       "      <td>294903.0</td>\n",
       "      <td>1783.0</td>\n",
       "      <td>-7.80</td>\n",
       "      <td>5</td>\n",
       "      <td>Blue</td>\n",
       "    </tr>\n",
       "  </tbody>\n",
       "</table>\n",
       "</div>"
      ],
      "text/plain": [
       "     temperature  luminosity  radius  absolute_magnitude  Star type  \\\n",
       "50          3490    270000.0  1520.0               -9.40          5   \n",
       "51          3750    283000.0  1260.0               -7.63          5   \n",
       "52          3834    272000.0  1183.0               -9.20          5   \n",
       "53          3749    550000.0  1648.0               -8.05          5   \n",
       "54          3650    310000.0  1324.0               -7.79          5   \n",
       "55          3450    263000.0  1349.0              -11.75          5   \n",
       "56          3660    363000.0  1673.0              -11.92          5   \n",
       "57          3450    174000.0  1284.0              -11.28          5   \n",
       "58          3752    209000.0   955.0              -11.24          5   \n",
       "59          3535    195000.0  1546.0              -11.36          5   \n",
       "110         3459    100000.0  1289.0              -10.70          5   \n",
       "111         3605    126000.0  1124.0              -10.81          5   \n",
       "112         3615    200000.0  1635.0              -11.33          5   \n",
       "113         3399    117000.0  1486.0              -10.92          5   \n",
       "114         3610    132000.0  1522.0              -10.86          5   \n",
       "115         3553    145000.0  1324.0              -11.03          5   \n",
       "116         4015    282000.0  1534.0              -11.39          5   \n",
       "117         3625     74000.0   876.0              -10.25          5   \n",
       "118         6850    229000.0  1467.0              -10.07          5   \n",
       "119         3780    200000.0  1324.0              -10.70          5   \n",
       "170         3570    320000.0  1480.0               -7.58          5   \n",
       "171         3500    138000.0  1420.0               -8.18          5   \n",
       "172         4287    630000.0  1315.0               -9.20          5   \n",
       "173        26000    316000.0  1679.0               -9.10          5   \n",
       "174         3600    240000.0  1190.0               -7.89          5   \n",
       "175         3614    145000.0  1553.0               -7.71          5   \n",
       "176        18000    200000.0  1045.0               -8.30          5   \n",
       "177        11000    170000.0  1779.0               -9.90          5   \n",
       "178        12100    120000.0   708.9               -7.84          5   \n",
       "179        24490    248490.0  1134.5               -8.24          5   \n",
       "230        24145    382993.0  1494.0               -8.84          5   \n",
       "231        38234    272830.0  1356.0               -9.29          5   \n",
       "232        32489    648430.0  1948.5              -10.84          5   \n",
       "233        27739    849420.0  1252.0               -7.59          5   \n",
       "234        21904    748490.0  1130.0               -7.67          5   \n",
       "235        38940    374830.0  1356.0               -9.93          5   \n",
       "236        30839    834042.0  1194.0              -10.63          5   \n",
       "237         8829    537493.0  1423.0              -10.73          5   \n",
       "238         9235    404940.0  1112.0              -11.23          5   \n",
       "239        37882    294903.0  1783.0               -7.80          5   \n",
       "\n",
       "     Star color  \n",
       "50          Red  \n",
       "51          Red  \n",
       "52          Red  \n",
       "53       Orange  \n",
       "54          Red  \n",
       "55          Red  \n",
       "56          Red  \n",
       "57          Red  \n",
       "58          Red  \n",
       "59          Red  \n",
       "110         Red  \n",
       "111         Red  \n",
       "112         Red  \n",
       "113         Red  \n",
       "114         Red  \n",
       "115         Red  \n",
       "116         Red  \n",
       "117         Red  \n",
       "118         Red  \n",
       "119         Red  \n",
       "170         Red  \n",
       "171         Red  \n",
       "172      Orange  \n",
       "173        Blue  \n",
       "174         Red  \n",
       "175         Red  \n",
       "176        Blue  \n",
       "177  Blue-white  \n",
       "178  Blue-white  \n",
       "179  Blue-white  \n",
       "230  Blue-white  \n",
       "231        Blue  \n",
       "232        Blue  \n",
       "233  Blue-white  \n",
       "234  Blue-white  \n",
       "235        Blue  \n",
       "236        Blue  \n",
       "237       White  \n",
       "238       White  \n",
       "239        Blue  "
      ]
     },
     "execution_count": 12,
     "metadata": {},
     "output_type": "execute_result"
    }
   ],
   "source": [
    "data.query('radius > 250')"
   ]
  },
  {
   "cell_type": "markdown",
   "id": "ba47b64c",
   "metadata": {},
   "source": [
    "В данных о светимости тоже много выбросов, но их удаление может негативно сказаться на обучении нейросети, поэтому оставим как есть.\n",
    "\n",
    "Значения абсолютной магнитуды выбросов не имеют, менять не надо."
   ]
  },
  {
   "cell_type": "markdown",
   "id": "2c0e848e",
   "metadata": {},
   "source": [
    "### Анализ категориальных признаков"
   ]
  },
  {
   "cell_type": "code",
   "execution_count": 13,
   "id": "a7ddf372",
   "metadata": {},
   "outputs": [],
   "source": [
    "categorical = ['Star type', 'Star color']"
   ]
  },
  {
   "cell_type": "code",
   "execution_count": 14,
   "id": "3b547bbf",
   "metadata": {
    "scrolled": true
   },
   "outputs": [
    {
     "name": "stdout",
     "output_type": "stream",
     "text": [
      "Star type \n",
      "\n",
      "0    40\n",
      "1    40\n",
      "2    40\n",
      "3    40\n",
      "4    40\n",
      "5    40\n",
      "Name: Star type, dtype: int64\n"
     ]
    },
    {
     "data": {
      "image/png": "[encoded data removed]",
      "text/plain": [
       "<Figure size 360x360 with 1 Axes>"
      ]
     },
     "metadata": {
      "needs_background": "light"
     },
     "output_type": "display_data"
    },
    {
     "name": "stdout",
     "output_type": "stream",
     "text": [
      "Star color \n",
      "\n",
      "Red                   112\n",
      "Blue                   55\n",
      "Blue-white             26\n",
      "Blue White             10\n",
      "yellow-white            8\n",
      "White                   7\n",
      "white                   3\n",
      "Blue white              3\n",
      "Yellowish White         3\n",
      "yellowish               2\n",
      "Whitish                 2\n",
      "Orange                  2\n",
      "Yellowish               1\n",
      "Pale yellow orange      1\n",
      "Blue                    1\n",
      "White-Yellow            1\n",
      "Blue white              1\n",
      "Blue-White              1\n",
      "Orange-Red              1\n",
      "Name: Star color, dtype: int64\n"
     ]
    },
    {
     "data": {
      "image/png": "[encoded data removed]",
      "text/plain": [
       "<Figure size 360x360 with 1 Axes>"
      ]
     },
     "metadata": {
      "needs_background": "light"
     },
     "output_type": "display_data"
    }
   ],
   "source": [
    "for col in categorical:\n",
    "    cat(col)"
   ]
  },
  {
   "cell_type": "markdown",
   "id": "8a673885",
   "metadata": {},
   "source": [
    "В данных одинаковое количество звёзд каждого типа. В данных о цвете звезд присутствуют неявные дубликаты. Поправим их согласно Гравардской классификации."
   ]
  },
  {
   "cell_type": "code",
   "execution_count": 15,
   "id": "4f9f1ff8",
   "metadata": {},
   "outputs": [],
   "source": [
    "# приведем название столбцов к стандартному\n",
    "data = data.rename(columns={'Star type': 'star_type', \n",
    "                            'Star color': 'star_color'})"
   ]
  },
  {
   "cell_type": "code",
   "execution_count": 16,
   "id": "5a878e5d",
   "metadata": {},
   "outputs": [
    {
     "data": {
      "text/plain": [
       "array(['Red', 'Blue White', 'White', 'Yellowish White', 'Blue white',\n",
       "       'Pale yellow orange', 'Blue', 'Blue-white', 'Whitish',\n",
       "       'yellow-white', 'Orange', 'White-Yellow', 'white', 'Blue ',\n",
       "       'yellowish', 'Yellowish', 'Orange-Red', 'Blue white ',\n",
       "       'Blue-White'], dtype=object)"
      ]
     },
     "execution_count": 16,
     "metadata": {},
     "output_type": "execute_result"
    }
   ],
   "source": [
    "# изучим значения цветов\n",
    "data['star_color'].unique() "
   ]
  },
  {
   "cell_type": "code",
   "execution_count": 17,
   "id": "697749bc",
   "metadata": {},
   "outputs": [],
   "source": [
    "data['star_color'] = data['star_color'].str.lower().str.strip()"
   ]
  },
  {
   "cell_type": "code",
   "execution_count": 18,
   "id": "fc584d6d",
   "metadata": {},
   "outputs": [
    {
     "data": {
      "text/plain": [
       "array(['red', 'blue white', 'white', 'yellowish white',\n",
       "       'pale yellow orange', 'blue', 'blue-white', 'whitish',\n",
       "       'yellow-white', 'orange', 'white-yellow', 'yellowish',\n",
       "       'orange-red'], dtype=object)"
      ]
     },
     "execution_count": 18,
     "metadata": {},
     "output_type": "execute_result"
    }
   ],
   "source": [
    "data['star_color'].unique() "
   ]
  },
  {
   "cell_type": "code",
   "execution_count": 19,
   "id": "5dbacb37",
   "metadata": {},
   "outputs": [],
   "source": [
    "# оставим только основные цвета\n",
    "data['star_color'] = data['star_color'].replace({'blue white': 'white-blue',\n",
    "                                                'yellowish white': 'yellow-white',\n",
    "                                                'pale yellow orange': 'orange',\n",
    "                                                'blue-white': 'white-blue',\n",
    "                                                'whitish': 'white',\n",
    "                                                'yellow-white': 'yellow-white',\n",
    "                                                'white-yellow': 'yellow-white',\n",
    "                                                'yellowish': 'yellow',\n",
    "                                                'orange-red': 'red'})"
   ]
  },
  {
   "cell_type": "code",
   "execution_count": 20,
   "id": "1f4edaae",
   "metadata": {},
   "outputs": [
    {
     "data": {
      "text/plain": [
       "array(['red', 'white-blue', 'white', 'yellow-white', 'orange', 'blue',\n",
       "       'yellow'], dtype=object)"
      ]
     },
     "execution_count": 20,
     "metadata": {},
     "output_type": "execute_result"
    }
   ],
   "source": [
    "data['star_color'].unique() "
   ]
  },
  {
   "cell_type": "markdown",
   "id": "2c18bed8",
   "metadata": {},
   "source": [
    "Данные привели в порядке теперь посмотрим на их расперделение."
   ]
  },
  {
   "cell_type": "code",
   "execution_count": 21,
   "id": "316379e7",
   "metadata": {},
   "outputs": [],
   "source": [
    "categorical = ['star_type', 'star_color']"
   ]
  },
  {
   "cell_type": "code",
   "execution_count": 22,
   "id": "0e4e902d",
   "metadata": {
    "scrolled": true
   },
   "outputs": [
    {
     "name": "stdout",
     "output_type": "stream",
     "text": [
      "star_type \n",
      "\n",
      "0    40\n",
      "1    40\n",
      "2    40\n",
      "3    40\n",
      "4    40\n",
      "5    40\n",
      "Name: star_type, dtype: int64\n"
     ]
    },
    {
     "data": {
      "image/png": "[encoded data removed]",
      "text/plain": [
       "<Figure size 360x360 with 1 Axes>"
      ]
     },
     "metadata": {
      "needs_background": "light"
     },
     "output_type": "display_data"
    },
    {
     "name": "stdout",
     "output_type": "stream",
     "text": [
      "star_color \n",
      "\n",
      "red             113\n",
      "blue             56\n",
      "white-blue       41\n",
      "yellow-white     12\n",
      "white            12\n",
      "yellow            3\n",
      "orange            3\n",
      "Name: star_color, dtype: int64\n"
     ]
    },
    {
     "data": {
      "image/png": "[encoded data removed]",
      "text/plain": [
       "<Figure size 360x360 with 1 Axes>"
      ]
     },
     "metadata": {
      "needs_background": "light"
     },
     "output_type": "display_data"
    }
   ],
   "source": [
    "for col in categorical:\n",
    "    cat(col)"
   ]
  },
  {
   "cell_type": "markdown",
   "id": "8e64fb78",
   "metadata": {},
   "source": [
    "В данных одинаковое количество звёзд каждого типа. Преобладает красный цвет."
   ]
  },
  {
   "cell_type": "markdown",
   "id": "95fe77d9",
   "metadata": {},
   "source": [
    "**Выводы к обработке данных:**\n",
    "\n",
    "- Данные от выбросов не очищал, т.к. есть распределение по типу звезд, которое является равномерным;\n",
    "- Звёзды каждого типа представлены равномерно;\n",
    "- Названия цветов приведены к единому формату;\n",
    "- Больше всего звёзд красного цвета."
   ]
  },
  {
   "cell_type": "code",
   "execution_count": 23,
   "id": "48b999f3",
   "metadata": {},
   "outputs": [
    {
     "name": "stdout",
     "output_type": "stream",
     "text": [
      "interval columns not set, guessing: ['temperature', 'luminosity', 'radius', 'absolute_magnitude', 'star_type']\n"
     ]
    },
    {
     "data": {
      "image/png": "[encoded data removed]",
      "text/plain": [
       "<Figure size 1080x360 with 2 Axes>"
      ]
     },
     "metadata": {
      "needs_background": "light"
     },
     "output_type": "display_data"
    }
   ],
   "source": [
    "_phik_matrix = data.phik_matrix()\n",
    "plt.figure(figsize=(15, 5))\n",
    "sns.heatmap(_phik_matrix, annot=True, fmt=\".2f\");\n",
    "plt.title('Коэффициенты корреляции между всеми признаками данных о звездах');"
   ]
  },
  {
   "cell_type": "markdown",
   "id": "funded-electric",
   "metadata": {},
   "source": [
    "## Построение базовой нейронной сети"
   ]
  },
  {
   "cell_type": "markdown",
   "id": "8f4f5ec8",
   "metadata": {},
   "source": [
    "### Подготовка данных к построению модели"
   ]
  },
  {
   "cell_type": "code",
   "execution_count": 24,
   "id": "6ca69cbd",
   "metadata": {},
   "outputs": [],
   "source": [
    "features = data.drop('temperature', axis=1)\n",
    "target = data['temperature']"
   ]
  },
  {
   "cell_type": "raw",
   "id": "818dfd91",
   "metadata": {},
   "source": [
    "X_train, X_test, y_train, y_test = train_test_split(features, target, test_size=0.2, random_state=42, shuffle=True)"
   ]
  },
  {
   "cell_type": "code",
   "execution_count": 25,
   "id": "c09b6c69",
   "metadata": {},
   "outputs": [],
   "source": [
    "#КОД РЕВЬЮЕРА\n",
    "X_train, X_test, y_train, y_test = train_test_split(features, target, test_size=0.2, random_state=42, shuffle=True, stratify=features['star_color'])"
   ]
  },
  {
   "cell_type": "code",
   "execution_count": 26,
   "id": "048d2157",
   "metadata": {},
   "outputs": [],
   "source": [
    "numeric = ['luminosity', 'radius', 'absolute_magnitude']"
   ]
  },
  {
   "cell_type": "code",
   "execution_count": 27,
   "id": "60244bec",
   "metadata": {},
   "outputs": [],
   "source": [
    "# кодирование категориальных признаков\n",
    "ohe_encoder = OneHotEncoder(drop='first', handle_unknown='ignore', sparse=False)\n",
    "ohe_encoder.fit(X_train[categorical])\n",
    "X_train_encoded = pd.DataFrame(\n",
    "    ohe_encoder.transform(X_train[categorical]),\n",
    "    columns=ohe_encoder.get_feature_names_out(categorical)\n",
    ")\n",
    "\n",
    "X_train_ohe = pd.concat((X_train[numeric].reset_index(drop=True), X_train_encoded.reset_index(drop=True)), axis=1)\n",
    "\n",
    "X_test_encoded = pd.DataFrame(\n",
    "    ohe_encoder.transform(X_test[categorical]),\n",
    "    columns=ohe_encoder.get_feature_names_out(categorical)\n",
    ")\n",
    "\n",
    "X_test_ohe = pd.concat((X_test[numeric].reset_index(drop=True), X_test_encoded.reset_index(drop=True)), axis=1)"
   ]
  },
  {
   "cell_type": "code",
   "execution_count": 28,
   "id": "071a270f",
   "metadata": {},
   "outputs": [],
   "source": [
    "# стандартизация числовых признаков\n",
    "scaler = StandardScaler()\n",
    "scaler.fit(X_train_ohe[numeric])\n",
    "\n",
    "X_train_ohe[numeric] = scaler.transform(X_train_ohe[numeric])\n",
    "X_test_ohe[numeric] = scaler.transform(X_test_ohe[numeric])"
   ]
  },
  {
   "cell_type": "code",
   "execution_count": 29,
   "id": "7104edf7",
   "metadata": {},
   "outputs": [],
   "source": [
    "X_train_tensor = torch.from_numpy(np.array(X_train_ohe)).float()\n",
    "X_test_tensor = torch.from_numpy(np.array(X_test_ohe)).float()\n",
    "\n",
    "y_train_tensor = torch.from_numpy(np.array(y_train)).float()\n",
    "y_test_tensor = torch.from_numpy(np.array(y_test)).float()"
   ]
  },
  {
   "cell_type": "markdown",
   "id": "ebebfae6",
   "metadata": {},
   "source": [
    "### Базовая нейронная сеть"
   ]
  },
  {
   "cell_type": "code",
   "execution_count": 30,
   "id": "f8f73128",
   "metadata": {},
   "outputs": [],
   "source": [
    "# функция активации\n",
    "def linear(x):\n",
    "    k = 2\n",
    "    return k*x"
   ]
  },
  {
   "cell_type": "markdown",
   "id": "6567b176",
   "metadata": {},
   "source": [
    "**Архитектура базовой сети:**\n",
    "\n",
    "- полносвязная сеть прямого распространения\n",
    "- 2 скрытых слоя\n",
    "- функция активации для скрытых слоёв - leaky ReLU\n",
    "- функция активации выходного слоя - линейная"
   ]
  },
  {
   "cell_type": "code",
   "execution_count": 31,
   "id": "464417fb",
   "metadata": {},
   "outputs": [],
   "source": [
    "class Basic_Net(nn.Module):\n",
    "    def __init__(self, n_in_neurons, n_hidden_neurons_1, n_hidden_neurons_2, n_out_neurons):\n",
    "        super(Basic_Net, self).__init__()\n",
    "        self.layer1 = nn.Linear(n_in_neurons, n_hidden_neurons_1)\n",
    "        self.layer2 = nn.Linear(n_hidden_neurons_1, n_hidden_neurons_2)\n",
    "        self.layer3 = nn.Linear(n_hidden_neurons_2, n_out_neurons)\n",
    "        \n",
    "    def forward(self, x):\n",
    "        x = self.layer1(x)\n",
    "        x = nn.functional.leaky_relu(x)\n",
    "        x = self.layer2(x)\n",
    "        x = nn.functional.leaky_relu(x)\n",
    "        x = self.layer3(x)\n",
    "        x = linear(x)\n",
    "        \n",
    "        return x"
   ]
  },
  {
   "cell_type": "code",
   "execution_count": 32,
   "id": "7ade96aa",
   "metadata": {},
   "outputs": [],
   "source": [
    "# инициализация весов\n",
    "def init_weights(layer):\n",
    "    if type(layer) == nn.Linear:\n",
    "        nn.init.kaiming_uniform_(layer.weight, mode='fan_in', nonlinearity='relu')"
   ]
  },
  {
   "cell_type": "code",
   "execution_count": 33,
   "id": "fc79a583",
   "metadata": {},
   "outputs": [],
   "source": [
    "# гиперпараметры нейросети\n",
    "num_epochs = 6000\n",
    "batch_size = 100\n",
    "accumulation_iteration = 5\n",
    "num_batches = ceil(len(X_train_tensor)/batch_size)\n",
    "loss = torch.nn.MSELoss()\n",
    "learning_rate = 0.01"
   ]
  },
  {
   "cell_type": "markdown",
   "id": "e39b7539",
   "metadata": {},
   "source": [
    "- Входной слой - 12 нейронов\n",
    "- Скрытые слои - 3 нейрона\n",
    "- Выходной слой - 1 нейрон"
   ]
  },
  {
   "cell_type": "code",
   "execution_count": 34,
   "id": "f14ea9c6",
   "metadata": {},
   "outputs": [],
   "source": [
    "n_in_neurons = X_train_tensor.size(dim=1)\n",
    "n_out_neurons = 1\n",
    "n_hidden_neurons_1 = round(np.sqrt(n_in_neurons))\n",
    "n_hidden_neurons_2 = round(np.sqrt(n_in_neurons))"
   ]
  },
  {
   "cell_type": "code",
   "execution_count": 35,
   "id": "712447f2",
   "metadata": {},
   "outputs": [
    {
     "name": "stdout",
     "output_type": "stream",
     "text": [
      "Эпоха: 0, Loss: 216537456.0, RMSE: 10534.796875\n",
      "Эпоха: 0, Loss: 231214720.0, RMSE: 10534.5986328125\n",
      "Эпоха: 100, Loss: 187333536.0, RMSE: 10259.826171875\n",
      "Эпоха: 100, Loss: 247410752.0, RMSE: 10251.095703125\n",
      "Эпоха: 200, Loss: 189952320.0, RMSE: 8155.689453125\n",
      "Эпоха: 200, Loss: 122913472.0, RMSE: 8124.71484375\n",
      "Эпоха: 300, Loss: 67959584.0, RMSE: 6025.9580078125\n",
      "Эпоха: 300, Loss: 102519344.0, RMSE: 6017.10205078125\n",
      "Эпоха: 400, Loss: 49318196.0, RMSE: 5685.2060546875\n",
      "Эпоха: 400, Loss: 77779520.0, RMSE: 5683.6962890625\n",
      "Эпоха: 500, Loss: 56666500.0, RMSE: 5563.28173828125\n",
      "Эпоха: 500, Loss: 54548708.0, RMSE: 5563.1357421875\n",
      "Эпоха: 600, Loss: 59704152.0, RMSE: 5495.03759765625\n",
      "Эпоха: 600, Loss: 40682852.0, RMSE: 5494.6640625\n",
      "Эпоха: 700, Loss: 52733700.0, RMSE: 5423.55859375\n",
      "Эпоха: 700, Loss: 39355324.0, RMSE: 5422.39111328125\n",
      "Эпоха: 800, Loss: 40904780.0, RMSE: 5319.1025390625\n",
      "Эпоха: 800, Loss: 43995160.0, RMSE: 5318.072265625\n",
      "Эпоха: 900, Loss: 48336360.0, RMSE: 5195.998046875\n",
      "Эпоха: 900, Loss: 27787152.0, RMSE: 5194.34375\n",
      "Эпоха: 1000, Loss: 32971520.0, RMSE: 5043.85595703125\n",
      "Эпоха: 1000, Loss: 36301696.0, RMSE: 5042.6796875\n",
      "Эпоха: 1100, Loss: 23031120.0, RMSE: 4923.77587890625\n",
      "Эпоха: 1100, Loss: 39567052.0, RMSE: 4922.45947265625\n",
      "Эпоха: 1200, Loss: 30990436.0, RMSE: 4828.14990234375\n",
      "Эпоха: 1200, Loss: 24213588.0, RMSE: 4827.1376953125\n",
      "Эпоха: 1300, Loss: 22200024.0, RMSE: 4759.90673828125\n",
      "Эпоха: 1300, Loss: 27780602.0, RMSE: 4759.00244140625\n",
      "Эпоха: 1400, Loss: 24234256.0, RMSE: 4729.27001953125\n",
      "Эпоха: 1400, Loss: 20980698.0, RMSE: 4729.71435546875\n",
      "Эпоха: 1500, Loss: 21972746.0, RMSE: 4728.39599609375\n",
      "Эпоха: 1500, Loss: 20207212.0, RMSE: 4727.130859375\n",
      "Эпоха: 1600, Loss: 21532624.0, RMSE: 4695.0712890625\n",
      "Эпоха: 1600, Loss: 18232140.0, RMSE: 4695.28076171875\n",
      "Эпоха: 1700, Loss: 16782612.0, RMSE: 4683.63916015625\n",
      "Эпоха: 1700, Loss: 21366956.0, RMSE: 4683.82763671875\n",
      "Эпоха: 1800, Loss: 20417178.0, RMSE: 4662.4609375\n",
      "Эпоха: 1800, Loss: 15953178.0, RMSE: 4661.5390625\n",
      "Эпоха: 1900, Loss: 18045996.0, RMSE: 4665.7529296875\n",
      "Эпоха: 1900, Loss: 17411496.0, RMSE: 4665.53955078125\n",
      "Эпоха: 2000, Loss: 18599120.0, RMSE: 4658.88330078125\n",
      "Эпоха: 2000, Loss: 15814560.0, RMSE: 4658.75341796875\n",
      "Эпоха: 2100, Loss: 13860204.0, RMSE: 4688.89013671875\n",
      "Эпоха: 2100, Loss: 20081184.0, RMSE: 4688.72412109375\n",
      "Эпоха: 2200, Loss: 20871434.0, RMSE: 4711.20751953125\n",
      "Эпоха: 2200, Loss: 11961248.0, RMSE: 4709.42138671875\n",
      "Эпоха: 2300, Loss: 14497111.0, RMSE: 4712.38525390625\n",
      "Эпоха: 2300, Loss: 18526030.0, RMSE: 4712.92236328125\n",
      "Эпоха: 2400, Loss: 13833901.0, RMSE: 4722.734375\n",
      "Эпоха: 2400, Loss: 18955820.0, RMSE: 4721.51025390625\n",
      "Эпоха: 2500, Loss: 14173809.0, RMSE: 4734.65478515625\n",
      "Эпоха: 2500, Loss: 18335384.0, RMSE: 4734.49169921875\n",
      "Эпоха: 2600, Loss: 16379400.0, RMSE: 4752.7666015625\n",
      "Эпоха: 2600, Loss: 15729322.0, RMSE: 4752.40380859375\n",
      "Эпоха: 2700, Loss: 22121438.0, RMSE: 4751.0634765625\n",
      "Эпоха: 2700, Loss: 9314360.0, RMSE: 4750.96435546875\n",
      "Эпоха: 2800, Loss: 15279421.0, RMSE: 4745.7724609375\n",
      "Эпоха: 2800, Loss: 16611112.0, RMSE: 4747.19287109375\n",
      "Эпоха: 2900, Loss: 17266682.0, RMSE: 4758.94775390625\n",
      "Эпоха: 2900, Loss: 14328399.0, RMSE: 4760.20751953125\n",
      "Эпоха: 3000, Loss: 18823514.0, RMSE: 4773.28955078125\n",
      "Эпоха: 3000, Loss: 12529651.0, RMSE: 4772.58251953125\n",
      "Эпоха: 3100, Loss: 18164694.0, RMSE: 4772.60009765625\n",
      "Эпоха: 3100, Loss: 13152010.0, RMSE: 4772.93017578125\n",
      "Эпоха: 3200, Loss: 14650499.0, RMSE: 4777.61279296875\n",
      "Эпоха: 3200, Loss: 16884934.0, RMSE: 4776.99951171875\n",
      "Эпоха: 3300, Loss: 12075699.0, RMSE: 4777.46923828125\n",
      "Эпоха: 3300, Loss: 19604406.0, RMSE: 4778.14501953125\n",
      "Эпоха: 3400, Loss: 17141370.0, RMSE: 4776.578125\n",
      "Эпоха: 3400, Loss: 14013643.0, RMSE: 4774.36083984375\n",
      "Эпоха: 3500, Loss: 14252097.0, RMSE: 4780.904296875\n",
      "Эпоха: 3500, Loss: 17068354.0, RMSE: 4781.72021484375\n",
      "Эпоха: 3600, Loss: 13028568.0, RMSE: 4788.29736328125\n",
      "Эпоха: 3600, Loss: 18321580.0, RMSE: 4787.173828125\n",
      "Эпоха: 3700, Loss: 13561204.0, RMSE: 4778.0888671875\n",
      "Эпоха: 3700, Loss: 17671958.0, RMSE: 4779.17138671875\n",
      "Эпоха: 3800, Loss: 14003553.0, RMSE: 4779.35400390625\n",
      "Эпоха: 3800, Loss: 17126764.0, RMSE: 4780.22509765625\n",
      "Эпоха: 3900, Loss: 13610181.0, RMSE: 4785.3359375\n",
      "Эпоха: 3900, Loss: 17493198.0, RMSE: 4784.06787109375\n",
      "Эпоха: 4000, Loss: 12680036.0, RMSE: 4780.30712890625\n",
      "Эпоха: 4000, Loss: 18455082.0, RMSE: 4780.86279296875\n",
      "Эпоха: 4100, Loss: 19984012.0, RMSE: 4794.4501953125\n",
      "Эпоха: 4100, Loss: 10472522.0, RMSE: 4795.26904296875\n",
      "Эпоха: 4200, Loss: 15631473.0, RMSE: 4793.29150390625\n",
      "Эпоха: 4200, Loss: 15166813.0, RMSE: 4793.068359375\n",
      "Эпоха: 4300, Loss: 14199689.0, RMSE: 4803.244140625\n",
      "Эпоха: 4300, Loss: 16689617.0, RMSE: 4802.724609375\n",
      "Эпоха: 4400, Loss: 15047812.0, RMSE: 4794.5078125\n",
      "Эпоха: 4400, Loss: 15737451.0, RMSE: 4788.9033203125\n",
      "Эпоха: 4500, Loss: 16996152.0, RMSE: 4804.89794921875\n",
      "Эпоха: 4500, Loss: 13587097.0, RMSE: 4802.259765625\n",
      "Эпоха: 4600, Loss: 15717962.0, RMSE: 4804.0126953125\n",
      "Эпоха: 4600, Loss: 14949472.0, RMSE: 4805.66357421875\n",
      "Эпоха: 4700, Loss: 13168347.0, RMSE: 4804.73681640625\n",
      "Эпоха: 4700, Loss: 17697504.0, RMSE: 4804.97900390625\n",
      "Эпоха: 4800, Loss: 16951742.0, RMSE: 4820.32470703125\n",
      "Эпоха: 4800, Loss: 13565668.0, RMSE: 4823.73779296875\n",
      "Эпоха: 4900, Loss: 12896084.0, RMSE: 4805.12109375\n",
      "Эпоха: 4900, Loss: 17952600.0, RMSE: 4805.14306640625\n",
      "Эпоха: 5000, Loss: 13729609.0, RMSE: 4820.12890625\n",
      "Эпоха: 5000, Loss: 16276153.0, RMSE: 4821.814453125\n",
      "Эпоха: 5100, Loss: 16989752.0, RMSE: 4898.0966796875\n",
      "Эпоха: 5100, Loss: 12223140.0, RMSE: 4899.1796875\n",
      "Эпоха: 5200, Loss: 10367334.0, RMSE: 4902.43310546875\n",
      "Эпоха: 5200, Loss: 18993028.0, RMSE: 4899.0537109375\n",
      "Эпоха: 5300, Loss: 12402290.0, RMSE: 4880.71875\n",
      "Эпоха: 5300, Loss: 16705741.0, RMSE: 4881.47900390625\n",
      "Эпоха: 5400, Loss: 11744316.0, RMSE: 4872.1796875\n",
      "Эпоха: 5400, Loss: 17381620.0, RMSE: 4873.6845703125\n",
      "Эпоха: 5500, Loss: 9762431.0, RMSE: 4904.130859375\n",
      "Эпоха: 5500, Loss: 19511014.0, RMSE: 4904.30126953125\n",
      "Эпоха: 5600, Loss: 13105007.0, RMSE: 4891.8349609375\n",
      "Эпоха: 5600, Loss: 15862681.0, RMSE: 4890.35791015625\n",
      "Эпоха: 5700, Loss: 8722805.0, RMSE: 4888.28271484375\n",
      "Эпоха: 5700, Loss: 20610988.0, RMSE: 4890.5654296875\n",
      "Эпоха: 5800, Loss: 15431569.0, RMSE: 4906.12158203125\n",
      "Эпоха: 5800, Loss: 13308723.0, RMSE: 4910.23828125\n",
      "Эпоха: 5900, Loss: 15166518.0, RMSE: 4889.3291015625\n",
      "Эпоха: 5900, Loss: 13587004.0, RMSE: 4896.00732421875\n",
      "Эпоха: 5999, Loss: 11545852.0, RMSE: 4889.912109375\n",
      "Эпоха: 5999, Loss: 17514794.0, RMSE: 4893.64501953125\n"
     ]
    }
   ],
   "source": [
    "basic_net = Basic_Net(n_in_neurons, n_hidden_neurons_1, n_hidden_neurons_2, n_out_neurons)\n",
    "basic_net.apply(init_weights)\n",
    "optimizer = torch.optim.Adam(basic_net.parameters(), lr=learning_rate)\n",
    "\n",
    "for epoch in range(num_epochs):\n",
    "    order = np.random.permutation(len(X_train_tensor))\n",
    "    optimizer.zero_grad()\n",
    "    \n",
    "    for batch_i in range(num_batches):\n",
    "        \n",
    "        start_index = batch_i * batch_size\n",
    "        batch_indexes = order[start_index:start_index+batch_size]\n",
    "        X_batch = X_train_tensor[batch_indexes]\n",
    "        y_batch = y_train_tensor[batch_indexes]\n",
    "        \n",
    "        preds = basic_net.forward(X_batch).flatten()\n",
    "        loss_value = loss(preds, y_batch)\n",
    "        loss_value.backward()\n",
    "        \n",
    "        if ((batch_i+1) % accumulation_iteration == 0) or (batch_i+1 == num_batches):\n",
    "            optimizer.step()\n",
    "            optimizer.zero_grad()\n",
    "        if epoch % 100 == 0 or epoch == num_epochs-1:\n",
    "            basic_net.eval()\n",
    "            test_preds = basic_net.forward(X_test_tensor).flatten()\n",
    "            mse = (torch.sum((y_test_tensor - test_preds)**2)/len(test_preds)).data\n",
    "            rmse = np.sqrt(mse)\n",
    "            print(f'Эпоха: {epoch}, Loss: {loss_value}, RMSE: {rmse}')"
   ]
  },
  {
   "cell_type": "code",
   "execution_count": 36,
   "id": "db0dae13",
   "metadata": {
    "scrolled": false
   },
   "outputs": [
    {
     "data": {
      "image/png": "[encoded data removed]",
      "text/plain": [
       "<Figure size 720x576 with 1 Axes>"
      ]
     },
     "metadata": {
      "needs_background": "light"
     },
     "output_type": "display_data"
    }
   ],
   "source": [
    "build_graphic()"
   ]
  },
  {
   "cell_type": "markdown",
   "id": "432c0aa5",
   "metadata": {},
   "source": [
    "**Вывод по базовой нейронной сети:**\n",
    "\n",
    "В целом, нейросеть даёт неплохие результаты. Здесь уже выбраны оптимальное количество эпох, скорость обучения и размер батча.\n",
    "\n",
    "- Пробовал менять размеры батча 50, 80, 100.\n",
    "- Скорость обучения 0.0001, 0.1 - слишком маленькая скорость работает медленно, прироста результата не дала. Более высокая скорость пропускает минимумы.\n",
    "- Количество эпох варьировалось от 100 до 6000 - оставила 6000, т.к. при таком варианте достигается наилучший результат без переобучения.\n",
    "- Пробовал сначала один скрытый слой - справляется тоже хорошо, но с двумя работает точнее.\n",
    "- Инициализация весов равномерным/нормальным распределением, fan_in/fan_out - существенных изменений не вносит.\n",
    "- Функция активации изначально была ReLU, но в данных есть отрицательные значения - решила попробовать leaky ReLU, результат улучшился.\n",
    "- Наилучшее значение метрики RMSE на тестовой выборке - 4534."
   ]
  },
  {
   "cell_type": "markdown",
   "id": "growing-supply",
   "metadata": {},
   "source": [
    "## Улучшение нейронной сети"
   ]
  },
  {
   "cell_type": "markdown",
   "id": "4cd1facc",
   "metadata": {},
   "source": [
    "### BatchNormalization"
   ]
  },
  {
   "cell_type": "code",
   "execution_count": 37,
   "id": "acceptable-forwarding",
   "metadata": {},
   "outputs": [],
   "source": [
    "class BN_Net(nn.Module):\n",
    "    def __init__(self, n_in_neurons, n_hidden_neurons_1, n_hidden_neurons_2, n_out_neurons):\n",
    "        super(BN_Net, self).__init__()\n",
    "        self.layer1 = nn.Linear(n_in_neurons, n_hidden_neurons_1)\n",
    "        self.bn1 = nn.BatchNorm1d(n_hidden_neurons_1)\n",
    "        self.layer2 = nn.Linear(n_hidden_neurons_1, n_hidden_neurons_2)\n",
    "        self.bn2 = nn.BatchNorm1d(n_hidden_neurons_2)\n",
    "        self.layer3 = nn.Linear(n_hidden_neurons_2, n_out_neurons)\n",
    "        \n",
    "    def forward(self, x):\n",
    "        x = self.layer1(x)\n",
    "        x = self.bn1(x)\n",
    "        x = nn.functional.leaky_relu(x)\n",
    "        x = self.layer2(x)\n",
    "        x = self.bn2(x)\n",
    "        x = nn.functional.leaky_relu(x)\n",
    "        x = self.layer3(x)\n",
    "        x = linear(x)\n",
    "        \n",
    "        return x"
   ]
  },
  {
   "cell_type": "code",
   "execution_count": 38,
   "id": "d7067a92",
   "metadata": {
    "scrolled": true
   },
   "outputs": [
    {
     "name": "stdout",
     "output_type": "stream",
     "text": [
      "Эпоха: 0, Loss: 248185072.0, RMSE: 10534.4130859375\n",
      "Эпоха: 0, Loss: 196780672.0, RMSE: 10534.169921875\n",
      "Эпоха: 100, Loss: 179622384.0, RMSE: 9157.83203125\n",
      "Эпоха: 100, Loss: 188318496.0, RMSE: 9091.9345703125\n",
      "Эпоха: 200, Loss: 63136292.0, RMSE: 6028.8984375\n",
      "Эпоха: 200, Loss: 55992600.0, RMSE: 6026.20703125\n",
      "Эпоха: 300, Loss: 40434524.0, RMSE: 5277.35498046875\n",
      "Эпоха: 300, Loss: 38626480.0, RMSE: 5261.939453125\n",
      "Эпоха: 400, Loss: 18645576.0, RMSE: 4846.63525390625\n",
      "Эпоха: 400, Loss: 23812144.0, RMSE: 4850.7529296875\n",
      "Эпоха: 500, Loss: 15069880.0, RMSE: 4391.2421875\n",
      "Эпоха: 500, Loss: 17931846.0, RMSE: 4384.7890625\n",
      "Эпоха: 600, Loss: 11697242.0, RMSE: 4298.669921875\n",
      "Эпоха: 600, Loss: 18079034.0, RMSE: 4297.74365234375\n",
      "Эпоха: 700, Loss: 16123489.0, RMSE: 4232.19921875\n",
      "Эпоха: 700, Loss: 11897333.0, RMSE: 4221.47021484375\n",
      "Эпоха: 800, Loss: 11190111.0, RMSE: 4284.64306640625\n",
      "Эпоха: 800, Loss: 16483420.0, RMSE: 4279.6806640625\n",
      "Эпоха: 900, Loss: 15842867.0, RMSE: 4372.7197265625\n",
      "Эпоха: 900, Loss: 10361546.0, RMSE: 4366.0693359375\n",
      "Эпоха: 1000, Loss: 13888680.0, RMSE: 4331.4111328125\n",
      "Эпоха: 1000, Loss: 11901568.0, RMSE: 4334.47802734375\n",
      "Эпоха: 1100, Loss: 15779988.0, RMSE: 4390.8154296875\n",
      "Эпоха: 1100, Loss: 9424001.0, RMSE: 4385.05029296875\n",
      "Эпоха: 1200, Loss: 11228343.0, RMSE: 4450.4609375\n",
      "Эпоха: 1200, Loss: 14048378.0, RMSE: 4439.63818359375\n",
      "Эпоха: 1300, Loss: 13631766.0, RMSE: 4412.48681640625\n",
      "Эпоха: 1300, Loss: 11151146.0, RMSE: 4432.31396484375\n",
      "Эпоха: 1400, Loss: 15540361.0, RMSE: 4441.43701171875\n",
      "Эпоха: 1400, Loss: 8829315.0, RMSE: 4441.068359375\n",
      "Эпоха: 1500, Loss: 11098614.0, RMSE: 4480.9462890625\n",
      "Эпоха: 1500, Loss: 13436902.0, RMSE: 4445.40185546875\n",
      "Эпоха: 1600, Loss: 13677729.0, RMSE: 4470.52978515625\n",
      "Эпоха: 1600, Loss: 10435901.0, RMSE: 4460.4140625\n",
      "Эпоха: 1700, Loss: 14233743.0, RMSE: 4500.70654296875\n",
      "Эпоха: 1700, Loss: 9631089.0, RMSE: 4497.35791015625\n",
      "Эпоха: 1800, Loss: 11634327.0, RMSE: 4555.00146484375\n",
      "Эпоха: 1800, Loss: 12313863.0, RMSE: 4537.54150390625\n",
      "Эпоха: 1900, Loss: 12675988.0, RMSE: 4589.52685546875\n",
      "Эпоха: 1900, Loss: 11073231.0, RMSE: 4573.00830078125\n",
      "Эпоха: 2000, Loss: 9563337.0, RMSE: 4659.34423828125\n",
      "Эпоха: 2000, Loss: 14351750.0, RMSE: 4597.56103515625\n",
      "Эпоха: 2100, Loss: 14057125.0, RMSE: 4666.2373046875\n",
      "Эпоха: 2100, Loss: 9342043.0, RMSE: 4704.478515625\n",
      "Эпоха: 2200, Loss: 9391123.0, RMSE: 4783.69580078125\n",
      "Эпоха: 2200, Loss: 14307424.0, RMSE: 4771.291015625\n",
      "Эпоха: 2300, Loss: 13378483.0, RMSE: 4761.72216796875\n",
      "Эпоха: 2300, Loss: 9908267.0, RMSE: 4752.73828125\n",
      "Эпоха: 2400, Loss: 11535625.0, RMSE: 4826.67333984375\n",
      "Эпоха: 2400, Loss: 11863016.0, RMSE: 4811.5986328125\n",
      "Эпоха: 2500, Loss: 14692129.0, RMSE: 4804.845703125\n",
      "Эпоха: 2500, Loss: 8385693.0, RMSE: 4781.51513671875\n",
      "Эпоха: 2600, Loss: 12596975.0, RMSE: 4787.47216796875\n",
      "Эпоха: 2600, Loss: 10626003.0, RMSE: 4796.85791015625\n",
      "Эпоха: 2700, Loss: 10101219.0, RMSE: 4846.0478515625\n",
      "Эпоха: 2700, Loss: 13320623.0, RMSE: 4834.2861328125\n",
      "Эпоха: 2800, Loss: 13455109.0, RMSE: 4798.4384765625\n",
      "Эпоха: 2800, Loss: 9603580.0, RMSE: 4777.248046875\n",
      "Эпоха: 2900, Loss: 13599208.0, RMSE: 4756.20751953125\n",
      "Эпоха: 2900, Loss: 9412856.0, RMSE: 4798.86669921875\n",
      "Эпоха: 3000, Loss: 11419105.0, RMSE: 4760.56787109375\n",
      "Эпоха: 3000, Loss: 11764683.0, RMSE: 4800.1455078125\n",
      "Эпоха: 3100, Loss: 9209516.0, RMSE: 4759.45166015625\n",
      "Эпоха: 3100, Loss: 14115203.0, RMSE: 4736.810546875\n",
      "Эпоха: 3200, Loss: 11342595.0, RMSE: 4757.28955078125\n",
      "Эпоха: 3200, Loss: 11792882.0, RMSE: 4746.80078125\n",
      "Эпоха: 3300, Loss: 11128851.0, RMSE: 4793.3623046875\n",
      "Эпоха: 3300, Loss: 11974778.0, RMSE: 4750.29296875\n",
      "Эпоха: 3400, Loss: 8930824.0, RMSE: 4779.5263671875\n",
      "Эпоха: 3400, Loss: 14332384.0, RMSE: 4763.14111328125\n",
      "Эпоха: 3500, Loss: 8262608.5, RMSE: 4717.412109375\n",
      "Эпоха: 3500, Loss: 15035825.0, RMSE: 4785.654296875\n",
      "Эпоха: 3600, Loss: 8901295.0, RMSE: 4712.84228515625\n",
      "Эпоха: 3600, Loss: 14317579.0, RMSE: 4742.25341796875\n",
      "Эпоха: 3700, Loss: 10020840.0, RMSE: 4736.087890625\n",
      "Эпоха: 3700, Loss: 13066652.0, RMSE: 4718.28466796875\n",
      "Эпоха: 3800, Loss: 8113072.0, RMSE: 4729.1806640625\n",
      "Эпоха: 3800, Loss: 15114163.0, RMSE: 4741.0390625\n",
      "Эпоха: 3900, Loss: 15785111.0, RMSE: 4751.509765625\n",
      "Эпоха: 3900, Loss: 6769756.5, RMSE: 4746.5712890625\n",
      "Эпоха: 4000, Loss: 9068112.0, RMSE: 4755.07666015625\n",
      "Эпоха: 4000, Loss: 14033614.0, RMSE: 4751.9990234375\n",
      "Эпоха: 4100, Loss: 8934897.0, RMSE: 4704.96240234375\n",
      "Эпоха: 4100, Loss: 14167949.0, RMSE: 4741.05029296875\n",
      "Эпоха: 4200, Loss: 9659820.0, RMSE: 4746.51123046875\n",
      "Эпоха: 4200, Loss: 13344648.0, RMSE: 4743.95751953125\n",
      "Эпоха: 4300, Loss: 11791868.0, RMSE: 4711.9091796875\n",
      "Эпоха: 4300, Loss: 11028294.0, RMSE: 4680.6474609375\n",
      "Эпоха: 4400, Loss: 13624250.0, RMSE: 4736.33544921875\n",
      "Эпоха: 4400, Loss: 9012616.0, RMSE: 4721.3876953125\n",
      "Эпоха: 4500, Loss: 8824951.0, RMSE: 4728.97802734375\n",
      "Эпоха: 4500, Loss: 14164881.0, RMSE: 4757.13232421875\n",
      "Эпоха: 4600, Loss: 18354334.0, RMSE: 4726.287109375\n",
      "Эпоха: 4600, Loss: 3686876.25, RMSE: 4745.9384765625\n",
      "Эпоха: 4700, Loss: 12746301.0, RMSE: 4741.8544921875\n",
      "Эпоха: 4700, Loss: 9738725.0, RMSE: 4698.10302734375\n",
      "Эпоха: 4800, Loss: 15063654.0, RMSE: 4708.8115234375\n",
      "Эпоха: 4800, Loss: 7193957.5, RMSE: 4743.37158203125\n",
      "Эпоха: 4900, Loss: 8116842.0, RMSE: 4691.990234375\n",
      "Эпоха: 4900, Loss: 14704522.0, RMSE: 4714.2255859375\n",
      "Эпоха: 5000, Loss: 10781332.0, RMSE: 4705.3359375\n",
      "Эпоха: 5000, Loss: 11772544.0, RMSE: 4681.23095703125\n",
      "Эпоха: 5100, Loss: 12717339.0, RMSE: 4734.705078125\n",
      "Эпоха: 5100, Loss: 9671885.0, RMSE: 4650.5830078125\n",
      "Эпоха: 5200, Loss: 8770084.0, RMSE: 4713.7314453125\n",
      "Эпоха: 5200, Loss: 13913738.0, RMSE: 4717.17822265625\n",
      "Эпоха: 5300, Loss: 13298678.0, RMSE: 4655.8681640625\n",
      "Эпоха: 5300, Loss: 8970026.0, RMSE: 4626.3232421875\n",
      "Эпоха: 5400, Loss: 11801414.0, RMSE: 4666.9248046875\n",
      "Эпоха: 5400, Loss: 10598157.0, RMSE: 4687.5927734375\n",
      "Эпоха: 5500, Loss: 10703208.0, RMSE: 4703.72900390625\n",
      "Эпоха: 5500, Loss: 11774410.0, RMSE: 4665.189453125\n",
      "Эпоха: 5600, Loss: 9654151.0, RMSE: 4657.48876953125\n",
      "Эпоха: 5600, Loss: 12863647.0, RMSE: 4582.90087890625\n",
      "Эпоха: 5700, Loss: 9252675.0, RMSE: 4629.640625\n",
      "Эпоха: 5700, Loss: 13283398.0, RMSE: 4699.193359375\n",
      "Эпоха: 5800, Loss: 11476157.0, RMSE: 4683.1796875\n",
      "Эпоха: 5800, Loss: 10841227.0, RMSE: 4631.1484375\n",
      "Эпоха: 5900, Loss: 8217364.5, RMSE: 4672.9296875\n",
      "Эпоха: 5900, Loss: 14356712.0, RMSE: 4716.34521484375\n",
      "Эпоха: 5999, Loss: 11465002.0, RMSE: 4639.04345703125\n",
      "Эпоха: 5999, Loss: 10790091.0, RMSE: 4602.70703125\n"
     ]
    }
   ],
   "source": [
    "bn_net = BN_Net(n_in_neurons, n_hidden_neurons_1,  n_hidden_neurons_2, n_out_neurons)\n",
    "bn_net.apply(init_weights)\n",
    "optimizer = torch.optim.Adam(bn_net.parameters(), lr=learning_rate)\n",
    "\n",
    "for epoch in range(num_epochs):\n",
    "    order = np.random.permutation(len(X_train_tensor))\n",
    "    optimizer.zero_grad()\n",
    "    \n",
    "    for batch_i in range(num_batches):\n",
    "        \n",
    "        start_index = batch_i * batch_size\n",
    "        batch_indexes = order[start_index:start_index+batch_size]\n",
    "        X_batch = X_train_tensor[batch_indexes]\n",
    "        y_batch = y_train_tensor[batch_indexes]\n",
    "        \n",
    "        preds = bn_net.forward(X_batch).flatten()\n",
    "        loss_value = loss(preds, y_batch)\n",
    "        loss_value.backward()\n",
    "        \n",
    "        if ((batch_i+1) % accumulation_iteration == 0) or (batch_i+1 == num_batches):\n",
    "            optimizer.step()\n",
    "            optimizer.zero_grad()\n",
    "        if epoch % 100 == 0 or epoch == num_epochs-1:\n",
    "            bn_net.eval()\n",
    "            test_preds = bn_net.forward(X_test_tensor).flatten()\n",
    "            mse = (torch.sum((y_test_tensor - test_preds)**2)/len(test_preds)).data\n",
    "            rmse = np.sqrt(mse)\n",
    "            print(f'Эпоха: {epoch}, Loss: {loss_value}, RMSE: {rmse}')"
   ]
  },
  {
   "cell_type": "code",
   "execution_count": 39,
   "id": "cc1b0ef3",
   "metadata": {},
   "outputs": [
    {
     "data": {
      "image/png": "[encoded data removed]",
      "text/plain": [
       "<Figure size 720x576 with 1 Axes>"
      ]
     },
     "metadata": {
      "needs_background": "light"
     },
     "output_type": "display_data"
    }
   ],
   "source": [
    "build_graphic()"
   ]
  },
  {
   "cell_type": "markdown",
   "id": "0b4ba39f",
   "metadata": {},
   "source": [
    "Лучшее значение метрики RMSE на тестовой выборке - 4270.\n",
    "Batch Normalization значительно улучшает сходимость обучения. А также при изменении гиперпараметров нейросеть давала более стабильные результаты, чем в других версиях.\n",
    "Из графика видно следующее:\n",
    "- у зведзд под номерами от 150 до 250 отклонение по температуре больше, чем от 0 до 150;\n",
    "- при Batch Normalization сходимость результатов выше, чем у базовой нейронной сети, которая в каждом номерном диапазоне дает примерно одинаковое количество отклонений."
   ]
  },
  {
   "cell_type": "markdown",
   "id": "1182998b",
   "metadata": {},
   "source": [
    "### Dropout"
   ]
  },
  {
   "cell_type": "code",
   "execution_count": 40,
   "id": "97907b3a",
   "metadata": {},
   "outputs": [],
   "source": [
    "class DP_Net(nn.Module):\n",
    "    def __init__(self, n_in_neurons, n_hidden_neurons_1, n_hidden_neurons_2, n_out_neurons):\n",
    "        super(DP_Net, self).__init__()\n",
    "        self.layer1 = nn.Linear(n_in_neurons, n_hidden_neurons_1)\n",
    "        self.dp1 = nn.Dropout(p=0.8)\n",
    "        self.layer2 = nn.Linear(n_hidden_neurons_1, n_hidden_neurons_2)\n",
    "        self.dp2 = nn.Dropout(p=0.8)\n",
    "        self.layer3 = nn.Linear(n_hidden_neurons_2, n_out_neurons)\n",
    "        \n",
    "    def forward(self, x):\n",
    "        x = self.layer1(x)\n",
    "        x = nn.functional.leaky_relu(x)\n",
    "        x = self.dp1(x)\n",
    "        x = self.layer2(x)\n",
    "        x = self.dp2(x)\n",
    "        x = nn.functional.leaky_relu(x)\n",
    "        x = self.layer3(x)\n",
    "        x = linear(x)\n",
    "        \n",
    "        return x"
   ]
  },
  {
   "cell_type": "code",
   "execution_count": 41,
   "id": "11d03f53",
   "metadata": {},
   "outputs": [
    {
     "name": "stdout",
     "output_type": "stream",
     "text": [
      "Эпоха: 0, Loss: 226256704.0, RMSE: 10535.1787109375\n",
      "Эпоха: 0, Loss: 220640032.0, RMSE: 10535.125\n",
      "Эпоха: 100, Loss: 210837456.0, RMSE: 10339.619140625\n",
      "Эпоха: 100, Loss: 225329168.0, RMSE: 10333.068359375\n",
      "Эпоха: 200, Loss: 181336992.0, RMSE: 8732.9228515625\n",
      "Эпоха: 200, Loss: 159264480.0, RMSE: 8707.703125\n",
      "Эпоха: 300, Loss: 93899088.0, RMSE: 6555.54248046875\n",
      "Эпоха: 300, Loss: 103497248.0, RMSE: 6542.06982421875\n",
      "Эпоха: 400, Loss: 62344912.0, RMSE: 5821.2470703125\n",
      "Эпоха: 400, Loss: 72635256.0, RMSE: 5816.1298828125\n",
      "Эпоха: 500, Loss: 69290944.0, RMSE: 5676.92578125\n",
      "Эпоха: 500, Loss: 44203608.0, RMSE: 5677.5556640625\n",
      "Эпоха: 600, Loss: 64752344.0, RMSE: 5468.333984375\n",
      "Эпоха: 600, Loss: 35926656.0, RMSE: 5471.27001953125\n",
      "Эпоха: 700, Loss: 46725712.0, RMSE: 5267.59814453125\n",
      "Эпоха: 700, Loss: 42980720.0, RMSE: 5265.96435546875\n",
      "Эпоха: 800, Loss: 46294128.0, RMSE: 5134.06640625\n",
      "Эпоха: 800, Loss: 26889520.0, RMSE: 5132.35595703125\n",
      "Эпоха: 900, Loss: 32049862.0, RMSE: 4911.87939453125\n",
      "Эпоха: 900, Loss: 29748012.0, RMSE: 4913.6904296875\n",
      "Эпоха: 1000, Loss: 33127176.0, RMSE: 4914.2578125\n",
      "Эпоха: 1000, Loss: 18693450.0, RMSE: 4913.9853515625\n",
      "Эпоха: 1100, Loss: 22062800.0, RMSE: 4947.759765625\n",
      "Эпоха: 1100, Loss: 24055276.0, RMSE: 4948.14501953125\n",
      "Эпоха: 1200, Loss: 16656787.0, RMSE: 4709.01220703125\n",
      "Эпоха: 1200, Loss: 24726734.0, RMSE: 4706.333984375\n",
      "Эпоха: 1300, Loss: 22372024.0, RMSE: 4608.5498046875\n",
      "Эпоха: 1300, Loss: 14191395.0, RMSE: 4607.54541015625\n",
      "Эпоха: 1400, Loss: 18592200.0, RMSE: 4514.81494140625\n",
      "Эпоха: 1400, Loss: 15152807.0, RMSE: 4513.12060546875\n",
      "Эпоха: 1500, Loss: 16461123.0, RMSE: 4466.88037109375\n",
      "Эпоха: 1500, Loss: 15298862.0, RMSE: 4465.86474609375\n",
      "Эпоха: 1600, Loss: 15199537.0, RMSE: 4488.2314453125\n",
      "Эпоха: 1600, Loss: 15274317.0, RMSE: 4486.11572265625\n",
      "Эпоха: 1700, Loss: 10547577.0, RMSE: 4483.4189453125\n",
      "Эпоха: 1700, Loss: 19429114.0, RMSE: 4484.0009765625\n",
      "Эпоха: 1800, Loss: 16076864.0, RMSE: 4496.89404296875\n",
      "Эпоха: 1800, Loss: 12852241.0, RMSE: 4497.3837890625\n",
      "Эпоха: 1900, Loss: 15919127.0, RMSE: 4501.884765625\n",
      "Эпоха: 1900, Loss: 12622805.0, RMSE: 4505.140625\n",
      "Эпоха: 2000, Loss: 15248367.0, RMSE: 4495.78369140625\n",
      "Эпоха: 2000, Loss: 13024035.0, RMSE: 4496.59423828125\n",
      "Эпоха: 2100, Loss: 15277064.0, RMSE: 4501.5478515625\n",
      "Эпоха: 2100, Loss: 12701828.0, RMSE: 4500.53564453125\n",
      "Эпоха: 2200, Loss: 11624315.0, RMSE: 4517.53515625\n",
      "Эпоха: 2200, Loss: 16404614.0, RMSE: 4518.4404296875\n",
      "Эпоха: 2300, Loss: 17125868.0, RMSE: 4503.052734375\n",
      "Эпоха: 2300, Loss: 10173987.0, RMSE: 4502.45849609375\n",
      "Эпоха: 2400, Loss: 12776648.0, RMSE: 4501.462890625\n",
      "Эпоха: 2400, Loss: 14665091.0, RMSE: 4500.53955078125\n",
      "Эпоха: 2500, Loss: 15459598.0, RMSE: 4511.287109375\n",
      "Эпоха: 2500, Loss: 11523972.0, RMSE: 4507.68896484375\n",
      "Эпоха: 2600, Loss: 14210999.0, RMSE: 4478.94677734375\n",
      "Эпоха: 2600, Loss: 12667773.0, RMSE: 4485.11083984375\n",
      "Эпоха: 2700, Loss: 12137874.0, RMSE: 4493.23876953125\n",
      "Эпоха: 2700, Loss: 14712008.0, RMSE: 4491.21826171875\n",
      "Эпоха: 2800, Loss: 10822629.0, RMSE: 4489.14208984375\n",
      "Эпоха: 2800, Loss: 15944019.0, RMSE: 4491.55615234375\n",
      "Эпоха: 2900, Loss: 13665505.0, RMSE: 4510.0888671875\n",
      "Эпоха: 2900, Loss: 12669299.0, RMSE: 4507.4765625\n",
      "Эпоха: 3000, Loss: 15848348.0, RMSE: 4486.51416015625\n",
      "Эпоха: 3000, Loss: 10110263.0, RMSE: 4479.5908203125\n",
      "Эпоха: 3100, Loss: 14292091.0, RMSE: 4479.669921875\n",
      "Эпоха: 3100, Loss: 11628320.0, RMSE: 4478.203125\n",
      "Эпоха: 3200, Loss: 10621044.0, RMSE: 4461.23828125\n",
      "Эпоха: 3200, Loss: 15452526.0, RMSE: 4464.30712890625\n",
      "Эпоха: 3300, Loss: 12293559.0, RMSE: 4455.3017578125\n",
      "Эпоха: 3300, Loss: 13476195.0, RMSE: 4455.62255859375\n",
      "Эпоха: 3400, Loss: 11845523.0, RMSE: 4457.7265625\n",
      "Эпоха: 3400, Loss: 13813273.0, RMSE: 4451.923828125\n",
      "Эпоха: 3500, Loss: 9556699.0, RMSE: 4441.86279296875\n",
      "Эпоха: 3500, Loss: 16158269.0, RMSE: 4442.23681640625\n",
      "Эпоха: 3600, Loss: 12768333.0, RMSE: 4439.57080078125\n",
      "Эпоха: 3600, Loss: 12529305.0, RMSE: 4442.10986328125\n",
      "Эпоха: 3700, Loss: 10286926.0, RMSE: 4422.76611328125\n",
      "Эпоха: 3700, Loss: 15094415.0, RMSE: 4426.1015625\n",
      "Эпоха: 3800, Loss: 10305009.0, RMSE: 4392.26171875\n",
      "Эпоха: 3800, Loss: 14941848.0, RMSE: 4391.298828125\n",
      "Эпоха: 3900, Loss: 14719846.0, RMSE: 4412.38134765625\n",
      "Эпоха: 3900, Loss: 9985131.0, RMSE: 4409.8916015625\n",
      "Эпоха: 4000, Loss: 12230446.0, RMSE: 4381.26318359375\n",
      "Эпоха: 4000, Loss: 12559317.0, RMSE: 4383.431640625\n",
      "Эпоха: 4100, Loss: 12370719.0, RMSE: 4384.95458984375\n",
      "Эпоха: 4100, Loss: 12261320.0, RMSE: 4376.9873046875\n",
      "Эпоха: 4200, Loss: 10153862.0, RMSE: 4377.4345703125\n",
      "Эпоха: 4200, Loss: 14542360.0, RMSE: 4382.08203125\n",
      "Эпоха: 4300, Loss: 9591456.0, RMSE: 4379.53662109375\n",
      "Эпоха: 4300, Loss: 15037615.0, RMSE: 4381.88671875\n",
      "Эпоха: 4400, Loss: 9572397.0, RMSE: 4370.12060546875\n",
      "Эпоха: 4400, Loss: 14950183.0, RMSE: 4375.43359375\n",
      "Эпоха: 4500, Loss: 14166779.0, RMSE: 4362.84423828125\n",
      "Эпоха: 4500, Loss: 9862135.0, RMSE: 4356.28759765625\n",
      "Эпоха: 4600, Loss: 11608371.0, RMSE: 4357.49951171875\n",
      "Эпоха: 4600, Loss: 12557903.0, RMSE: 4356.08935546875\n",
      "Эпоха: 4700, Loss: 13914578.0, RMSE: 4344.5107421875\n",
      "Эпоха: 4700, Loss: 9973368.0, RMSE: 4346.86328125\n",
      "Эпоха: 4800, Loss: 11943201.0, RMSE: 4356.2685546875\n",
      "Эпоха: 4800, Loss: 12043001.0, RMSE: 4361.67138671875\n",
      "Эпоха: 4900, Loss: 10089114.0, RMSE: 4354.169921875\n",
      "Эпоха: 4900, Loss: 13988501.0, RMSE: 4363.40478515625\n",
      "Эпоха: 5000, Loss: 8548678.0, RMSE: 4372.849609375\n",
      "Эпоха: 5000, Loss: 15596498.0, RMSE: 4376.03271484375\n",
      "Эпоха: 5100, Loss: 17443336.0, RMSE: 4336.41357421875\n",
      "Эпоха: 5100, Loss: 5867626.5, RMSE: 4337.2421875\n",
      "Эпоха: 5200, Loss: 12596829.0, RMSE: 4375.6630859375\n",
      "Эпоха: 5200, Loss: 11081048.0, RMSE: 4370.5107421875\n",
      "Эпоха: 5300, Loss: 7118732.0, RMSE: 4357.28125\n",
      "Эпоха: 5300, Loss: 16982912.0, RMSE: 4352.970703125\n",
      "Эпоха: 5400, Loss: 9983398.0, RMSE: 4384.90283203125\n",
      "Эпоха: 5400, Loss: 13826657.0, RMSE: 4376.64990234375\n",
      "Эпоха: 5500, Loss: 9073175.0, RMSE: 4318.3935546875\n",
      "Эпоха: 5500, Loss: 14764751.0, RMSE: 4323.142578125\n",
      "Эпоха: 5600, Loss: 13866637.0, RMSE: 4316.66552734375\n",
      "Эпоха: 5600, Loss: 9500448.0, RMSE: 4316.13916015625\n",
      "Эпоха: 5700, Loss: 14709967.0, RMSE: 4348.150390625\n",
      "Эпоха: 5700, Loss: 8495479.0, RMSE: 4345.02685546875\n",
      "Эпоха: 5800, Loss: 6758589.5, RMSE: 4340.9775390625\n",
      "Эпоха: 5800, Loss: 17069772.0, RMSE: 4332.65625\n",
      "Эпоха: 5900, Loss: 8339280.5, RMSE: 4340.96728515625\n",
      "Эпоха: 5900, Loss: 15299826.0, RMSE: 4345.216796875\n",
      "Эпоха: 5999, Loss: 13173018.0, RMSE: 4328.01318359375\n",
      "Эпоха: 5999, Loss: 9997471.0, RMSE: 4326.88427734375\n"
     ]
    }
   ],
   "source": [
    "dp_net = DP_Net(n_in_neurons, n_hidden_neurons_1, n_hidden_neurons_2, n_out_neurons)\n",
    "dp_net.apply(init_weights)\n",
    "optimizer = torch.optim.Adam(dp_net.parameters(), lr=learning_rate)\n",
    "\n",
    "for epoch in range(num_epochs):\n",
    "    \n",
    "    order = np.random.permutation(len(X_train_tensor))\n",
    "    optimizer.zero_grad()\n",
    "    \n",
    "    for batch_i in range(num_batches):\n",
    "        \n",
    "        start_index = batch_i * batch_size\n",
    "        batch_indexes = order[start_index:start_index+batch_size]\n",
    "        X_batch = X_train_tensor[batch_indexes]\n",
    "        y_batch = y_train_tensor[batch_indexes]\n",
    "        \n",
    "        preds = dp_net.forward(X_batch).flatten()\n",
    "        loss_value = loss(preds, y_batch)\n",
    "        loss_value.backward()\n",
    "        \n",
    "        if ((batch_i+1) % accumulation_iteration == 0) or (batch_i+1 == num_batches):\n",
    "            optimizer.step()\n",
    "            optimizer.zero_grad()\n",
    "        if epoch % 100 == 0 or epoch == num_epochs-1:\n",
    "            dp_net.eval()\n",
    "            test_preds = dp_net.forward(X_test_tensor).flatten()\n",
    "            mse = (torch.sum((y_test_tensor - test_preds)**2)/len(test_preds)).data\n",
    "            rmse = np.sqrt(mse)\n",
    "            print(f'Эпоха: {epoch}, Loss: {loss_value}, RMSE: {rmse}')"
   ]
  },
  {
   "cell_type": "code",
   "execution_count": 42,
   "id": "399e527e",
   "metadata": {},
   "outputs": [
    {
     "data": {
      "image/png": "[encoded data removed]",
      "text/plain": [
       "<Figure size 720x576 with 1 Axes>"
      ]
     },
     "metadata": {
      "needs_background": "light"
     },
     "output_type": "display_data"
    }
   ],
   "source": [
    "build_graphic()"
   ]
  },
  {
   "cell_type": "markdown",
   "id": "ab16078f",
   "metadata": {},
   "source": [
    "Лучшее значение метрики RMSE на тестовой выборке - 5046. Было достигнуто на 3400-й эпохе, после чего метрика начала падать. Однако, при каждом новом запуске результаты значительно отличаются. Этот вариант выглядит самым нестабильным из всех.\n",
    "Из графика видно следующее:\n",
    "- Dropout хаотично попадает в целевые значения;\n",
    "- график Dropout намного хуже, чем Batch Normalization, и незначительно хуже, чем базовой нейронной сети. "
   ]
  },
  {
   "cell_type": "markdown",
   "id": "accurate-infrastructure",
   "metadata": {},
   "source": [
    "## Выводы"
   ]
  },
  {
   "cell_type": "markdown",
   "id": "3f144839",
   "metadata": {},
   "source": [
    "После изучения и обработки данных получилось следующее:\n",
    "- Данные от выбросов не очищал, т.к. есть распределение по типу звезд, которое является равномерным;\n",
    "- Звёзды каждого типа представлены равномерно;\n",
    "- Названия цветов приведены к единому формату;\n",
    "- Больше всего звёзд красного цвета.\n",
    "\n",
    "В целом, базова нейросеть даёт неплохие результаты. Здесь уже выбраны оптимальное количество эпох, скорость обучения и размер батча.\n",
    "\n",
    "- Пробовал менять размеры батча 50, 80, 100.\n",
    "- Скорость обучения 0.0001, 0.1 - слишком маленькая скорость работает медленно, прироста результата не дала. Более высокая скорость пропускает минимумы.\n",
    "- Количество эпох варьировалось от 100 до 6000 - оставила 6000, т.к. при таком варианте достигается наилучший результат без переобучения.\n",
    "- Пробовал сначала один скрытый слой - справляется тоже хорошо, но с двумя работает точнее.\n",
    "- Инициализация весов равномерным/нормальным распределением, fan_in/fan_out - существенных изменений не вносит.\n",
    "- Функция активации изначально была ReLU, но в данных есть отрицательные значения - решила попробовать leaky ReLU, результат улучшился.\n",
    "- Наилучшее значение метрики RMSE на тестовой выборке - 4534.\n",
    "\n",
    "В целом, все 3 модели хорошо справляются с поставленной задачей. Базовая модель обучается медленно, но стабильно, и по ней легче отследить процесс обучения. BatchNorm работает быстрее, использование этой техники кажется предпочтительным (RMSE составляет 4270). Dropout сильно зависит от изменения гиперпараметров и, есть ощущение, что для конкретно этой задачи не очень подходит."
   ]
  }
 ],
 "metadata": {
  "ExecuteTimeLog": [
   {
    "duration": 1996,
    "start_time": "2025-03-19T18:01:13.895Z"
   },
   {
    "duration": 115,
    "start_time": "2025-03-19T18:01:37.082Z"
   },
   {
    "duration": 13,
    "start_time": "2025-03-19T18:01:59.885Z"
   },
   {
    "duration": 4,
    "start_time": "2025-03-19T18:04:29.747Z"
   },
   {
    "duration": 3,
    "start_time": "2025-03-19T18:04:52.552Z"
   },
   {
    "duration": 955,
    "start_time": "2025-03-19T18:05:04.608Z"
   },
   {
    "duration": 4,
    "start_time": "2025-03-19T18:10:06.870Z"
   },
   {
    "duration": 21,
    "start_time": "2025-03-19T18:12:10.091Z"
   },
   {
    "duration": 5,
    "start_time": "2025-03-19T18:12:45.826Z"
   },
   {
    "duration": 5,
    "start_time": "2025-03-19T18:14:12.285Z"
   },
   {
    "duration": 4,
    "start_time": "2025-03-19T18:14:38.026Z"
   },
   {
    "duration": 4,
    "start_time": "2025-03-19T18:15:07.802Z"
   },
   {
    "duration": 4,
    "start_time": "2025-03-19T18:15:20.749Z"
   },
   {
    "duration": 5,
    "start_time": "2025-03-19T18:15:33.595Z"
   },
   {
    "duration": 5,
    "start_time": "2025-03-19T18:15:49.060Z"
   },
   {
    "duration": 5,
    "start_time": "2025-03-19T18:16:03.250Z"
   },
   {
    "duration": 3,
    "start_time": "2025-03-19T18:16:16.095Z"
   },
   {
    "duration": 210,
    "start_time": "2025-03-19T18:16:30.842Z"
   },
   {
    "duration": 4,
    "start_time": "2025-03-19T18:19:28.258Z"
   },
   {
    "duration": 4,
    "start_time": "2025-03-19T18:20:22.874Z"
   },
   {
    "duration": 2,
    "start_time": "2025-03-19T18:20:39.564Z"
   },
   {
    "duration": 11,
    "start_time": "2025-03-19T18:20:52.324Z"
   },
   {
    "duration": 12,
    "start_time": "2025-03-19T18:21:03.715Z"
   },
   {
    "duration": 4,
    "start_time": "2025-03-19T18:21:21.034Z"
   },
   {
    "duration": 3,
    "start_time": "2025-03-19T18:22:27.130Z"
   },
   {
    "duration": 4,
    "start_time": "2025-03-19T18:23:34.106Z"
   },
   {
    "duration": 3,
    "start_time": "2025-03-19T18:23:48.333Z"
   },
   {
    "duration": 3,
    "start_time": "2025-03-19T18:23:59.665Z"
   },
   {
    "duration": 50,
    "start_time": "2025-03-21T17:22:41.619Z"
   },
   {
    "duration": 2199,
    "start_time": "2025-03-21T17:22:48.677Z"
   },
   {
    "duration": 5,
    "start_time": "2025-03-21T17:22:50.877Z"
   },
   {
    "duration": 13,
    "start_time": "2025-03-21T17:22:50.884Z"
   },
   {
    "duration": 107,
    "start_time": "2025-03-21T17:22:50.900Z"
   },
   {
    "duration": 11,
    "start_time": "2025-03-21T17:22:51.009Z"
   },
   {
    "duration": 28,
    "start_time": "2025-03-21T17:22:51.022Z"
   },
   {
    "duration": 1026,
    "start_time": "2025-03-21T17:22:51.052Z"
   },
   {
    "duration": 3,
    "start_time": "2025-03-21T17:22:52.080Z"
   },
   {
    "duration": 70,
    "start_time": "2025-03-21T17:22:52.085Z"
   },
   {
    "duration": 22,
    "start_time": "2025-03-21T17:22:52.158Z"
   },
   {
    "duration": 29,
    "start_time": "2025-03-21T17:22:52.182Z"
   },
   {
    "duration": 40,
    "start_time": "2025-03-21T17:22:52.213Z"
   },
   {
    "duration": 23,
    "start_time": "2025-03-21T17:22:52.255Z"
   },
   {
    "duration": 33,
    "start_time": "2025-03-21T17:22:52.279Z"
   },
   {
    "duration": 41,
    "start_time": "2025-03-21T17:22:52.313Z"
   },
   {
    "duration": 30,
    "start_time": "2025-03-21T17:22:52.355Z"
   },
   {
    "duration": 279,
    "start_time": "2025-03-21T17:22:52.387Z"
   },
   {
    "duration": 4,
    "start_time": "2025-03-21T17:22:52.668Z"
   },
   {
    "duration": 30,
    "start_time": "2025-03-21T17:22:52.673Z"
   },
   {
    "duration": 32,
    "start_time": "2025-03-21T17:22:52.705Z"
   },
   {
    "duration": 38,
    "start_time": "2025-03-21T17:22:52.739Z"
   },
   {
    "duration": 38,
    "start_time": "2025-03-21T17:22:52.779Z"
   },
   {
    "duration": 36,
    "start_time": "2025-03-21T17:22:52.819Z"
   },
   {
    "duration": 76,
    "start_time": "2025-03-21T17:22:52.857Z"
   },
   {
    "duration": 47,
    "start_time": "2025-03-21T17:22:52.934Z"
   },
   {
    "duration": 37,
    "start_time": "2025-03-21T17:22:52.982Z"
   },
   {
    "duration": 32,
    "start_time": "2025-03-21T17:22:53.021Z"
   },
   {
    "duration": 21,
    "start_time": "2025-03-21T17:22:53.056Z"
   },
   {
    "duration": 7324,
    "start_time": "2025-03-21T17:24:17.521Z"
   },
   {
    "duration": 4,
    "start_time": "2025-03-21T17:25:33.380Z"
   },
   {
    "duration": 316,
    "start_time": "2025-03-21T17:25:56.273Z"
   },
   {
    "duration": 5,
    "start_time": "2025-03-21T17:35:28.873Z"
   },
   {
    "duration": 48413,
    "start_time": "2025-03-21T17:35:48.807Z"
   },
   {
    "duration": 430,
    "start_time": "2025-03-21T17:37:19.720Z"
   },
   {
    "duration": 6,
    "start_time": "2025-03-21T17:39:25.746Z"
   },
   {
    "duration": 7916,
    "start_time": "2025-03-21T17:39:51.363Z"
   },
   {
    "duration": 2013,
    "start_time": "2025-03-21T17:41:23.310Z"
   },
   {
    "duration": 4,
    "start_time": "2025-03-21T17:41:25.325Z"
   },
   {
    "duration": 7,
    "start_time": "2025-03-21T17:41:25.331Z"
   },
   {
    "duration": 4,
    "start_time": "2025-03-21T17:41:25.340Z"
   },
   {
    "duration": 107,
    "start_time": "2025-03-21T17:41:25.346Z"
   },
   {
    "duration": 11,
    "start_time": "2025-03-21T17:41:25.455Z"
   },
   {
    "duration": 14,
    "start_time": "2025-03-21T17:41:25.467Z"
   },
   {
    "duration": 1024,
    "start_time": "2025-03-21T17:41:25.483Z"
   },
   {
    "duration": 4,
    "start_time": "2025-03-21T17:41:26.509Z"
   },
   {
    "duration": 25,
    "start_time": "2025-03-21T17:41:26.515Z"
   },
   {
    "duration": 4,
    "start_time": "2025-03-21T17:41:26.541Z"
   },
   {
    "duration": 45,
    "start_time": "2025-03-21T17:41:26.547Z"
   },
   {
    "duration": 15,
    "start_time": "2025-03-21T17:41:26.593Z"
   },
   {
    "duration": 43,
    "start_time": "2025-03-21T17:41:26.610Z"
   },
   {
    "duration": 13,
    "start_time": "2025-03-21T17:41:26.654Z"
   },
   {
    "duration": 37,
    "start_time": "2025-03-21T17:41:26.669Z"
   },
   {
    "duration": 17,
    "start_time": "2025-03-21T17:41:26.708Z"
   },
   {
    "duration": 288,
    "start_time": "2025-03-21T17:41:26.727Z"
   },
   {
    "duration": 4,
    "start_time": "2025-03-21T17:41:27.017Z"
   },
   {
    "duration": 28,
    "start_time": "2025-03-21T17:41:27.023Z"
   },
   {
    "duration": 29,
    "start_time": "2025-03-21T17:41:27.053Z"
   },
   {
    "duration": 35,
    "start_time": "2025-03-21T17:41:27.083Z"
   },
   {
    "duration": 21,
    "start_time": "2025-03-21T17:41:27.120Z"
   },
   {
    "duration": 18,
    "start_time": "2025-03-21T17:41:27.143Z"
   },
   {
    "duration": 11,
    "start_time": "2025-03-21T17:41:27.163Z"
   },
   {
    "duration": 12,
    "start_time": "2025-03-21T17:41:27.175Z"
   },
   {
    "duration": 20,
    "start_time": "2025-03-21T17:41:27.188Z"
   },
   {
    "duration": 36,
    "start_time": "2025-03-21T17:41:27.211Z"
   },
   {
    "duration": 20,
    "start_time": "2025-03-21T17:41:27.248Z"
   },
   {
    "duration": 7379,
    "start_time": "2025-03-21T17:41:27.270Z"
   },
   {
    "duration": 313,
    "start_time": "2025-03-21T17:41:34.650Z"
   },
   {
    "duration": 5,
    "start_time": "2025-03-21T17:41:34.964Z"
   },
   {
    "duration": 47333,
    "start_time": "2025-03-21T17:41:34.971Z"
   },
   {
    "duration": 451,
    "start_time": "2025-03-21T17:42:22.306Z"
   },
   {
    "duration": 6,
    "start_time": "2025-03-21T17:42:22.759Z"
   },
   {
    "duration": 7698,
    "start_time": "2025-03-21T17:42:22.766Z"
   },
   {
    "duration": 307,
    "start_time": "2025-03-21T17:43:12.165Z"
   },
   {
    "duration": 1883,
    "start_time": "2025-03-21T17:46:27.764Z"
   },
   {
    "duration": 5,
    "start_time": "2025-03-21T17:46:29.648Z"
   },
   {
    "duration": 7,
    "start_time": "2025-03-21T17:46:29.654Z"
   },
   {
    "duration": 13,
    "start_time": "2025-03-21T17:46:29.662Z"
   },
   {
    "duration": 128,
    "start_time": "2025-03-21T17:46:29.677Z"
   },
   {
    "duration": 14,
    "start_time": "2025-03-21T17:46:29.807Z"
   },
   {
    "duration": 11,
    "start_time": "2025-03-21T17:46:29.822Z"
   },
   {
    "duration": 1028,
    "start_time": "2025-03-21T17:46:29.835Z"
   },
   {
    "duration": 4,
    "start_time": "2025-03-21T17:46:30.864Z"
   },
   {
    "duration": 36,
    "start_time": "2025-03-21T17:46:30.870Z"
   },
   {
    "duration": 5,
    "start_time": "2025-03-21T17:46:30.908Z"
   },
   {
    "duration": 7,
    "start_time": "2025-03-21T17:46:30.914Z"
   },
   {
    "duration": 6,
    "start_time": "2025-03-21T17:46:30.922Z"
   },
   {
    "duration": 17,
    "start_time": "2025-03-21T17:46:30.931Z"
   },
   {
    "duration": 16,
    "start_time": "2025-03-21T17:46:30.950Z"
   },
   {
    "duration": 11,
    "start_time": "2025-03-21T17:46:30.967Z"
   },
   {
    "duration": 4,
    "start_time": "2025-03-21T17:46:30.980Z"
   },
   {
    "duration": 234,
    "start_time": "2025-03-21T17:46:30.985Z"
   },
   {
    "duration": 3,
    "start_time": "2025-03-21T17:46:31.221Z"
   },
   {
    "duration": 8,
    "start_time": "2025-03-21T17:46:31.226Z"
   },
   {
    "duration": 13,
    "start_time": "2025-03-21T17:46:31.235Z"
   },
   {
    "duration": 12,
    "start_time": "2025-03-21T17:46:31.249Z"
   },
   {
    "duration": 16,
    "start_time": "2025-03-21T17:46:31.262Z"
   },
   {
    "duration": 7,
    "start_time": "2025-03-21T17:46:31.280Z"
   },
   {
    "duration": 21,
    "start_time": "2025-03-21T17:46:31.288Z"
   },
   {
    "duration": 21,
    "start_time": "2025-03-21T17:46:31.311Z"
   },
   {
    "duration": 20,
    "start_time": "2025-03-21T17:46:31.333Z"
   },
   {
    "duration": 11,
    "start_time": "2025-03-21T17:46:31.355Z"
   },
   {
    "duration": 5,
    "start_time": "2025-03-21T17:46:31.368Z"
   },
   {
    "duration": 7361,
    "start_time": "2025-03-21T17:46:31.375Z"
   },
   {
    "duration": 314,
    "start_time": "2025-03-21T17:46:38.738Z"
   },
   {
    "duration": 5,
    "start_time": "2025-03-21T17:46:39.054Z"
   },
   {
    "duration": 48668,
    "start_time": "2025-03-21T17:46:39.060Z"
   },
   {
    "duration": 505,
    "start_time": "2025-03-21T17:47:27.804Z"
   },
   {
    "duration": 6,
    "start_time": "2025-03-21T17:47:28.310Z"
   },
   {
    "duration": 7840,
    "start_time": "2025-03-21T17:47:28.318Z"
   },
   {
    "duration": 311,
    "start_time": "2025-03-21T17:47:36.160Z"
   },
   {
    "duration": 1924,
    "start_time": "2025-03-21T23:47:59.814Z"
   },
   {
    "duration": 5,
    "start_time": "2025-03-21T23:48:01.740Z"
   },
   {
    "duration": 26,
    "start_time": "2025-03-21T23:48:01.746Z"
   },
   {
    "duration": 6,
    "start_time": "2025-03-21T23:48:01.773Z"
   },
   {
    "duration": 110,
    "start_time": "2025-03-21T23:48:01.781Z"
   },
   {
    "duration": 14,
    "start_time": "2025-03-21T23:48:01.893Z"
   },
   {
    "duration": 23,
    "start_time": "2025-03-21T23:48:01.909Z"
   },
   {
    "duration": 987,
    "start_time": "2025-03-21T23:48:01.933Z"
   },
   {
    "duration": 4,
    "start_time": "2025-03-21T23:48:02.921Z"
   },
   {
    "duration": 44,
    "start_time": "2025-03-21T23:48:02.926Z"
   },
   {
    "duration": 4,
    "start_time": "2025-03-21T23:48:02.971Z"
   },
   {
    "duration": 5,
    "start_time": "2025-03-21T23:48:02.976Z"
   },
   {
    "duration": 4,
    "start_time": "2025-03-21T23:48:02.982Z"
   },
   {
    "duration": 10,
    "start_time": "2025-03-21T23:48:02.989Z"
   },
   {
    "duration": 25,
    "start_time": "2025-03-21T23:48:03.000Z"
   },
   {
    "duration": 8,
    "start_time": "2025-03-21T23:48:03.026Z"
   },
   {
    "duration": 15,
    "start_time": "2025-03-21T23:48:03.036Z"
   },
   {
    "duration": 225,
    "start_time": "2025-03-21T23:48:03.052Z"
   },
   {
    "duration": 5,
    "start_time": "2025-03-21T23:48:03.279Z"
   },
   {
    "duration": 17,
    "start_time": "2025-03-21T23:48:03.285Z"
   },
   {
    "duration": 19,
    "start_time": "2025-03-21T23:48:03.303Z"
   },
   {
    "duration": 12,
    "start_time": "2025-03-21T23:48:03.323Z"
   },
   {
    "duration": 11,
    "start_time": "2025-03-21T23:48:03.336Z"
   },
   {
    "duration": 4,
    "start_time": "2025-03-21T23:48:03.348Z"
   },
   {
    "duration": 9,
    "start_time": "2025-03-21T23:48:03.353Z"
   },
   {
    "duration": 7,
    "start_time": "2025-03-21T23:48:03.363Z"
   },
   {
    "duration": 4,
    "start_time": "2025-03-21T23:48:03.371Z"
   },
   {
    "duration": 13,
    "start_time": "2025-03-21T23:48:03.376Z"
   },
   {
    "duration": 21,
    "start_time": "2025-03-21T23:48:03.390Z"
   },
   {
    "duration": 6820,
    "start_time": "2025-03-21T23:48:03.412Z"
   },
   {
    "duration": 305,
    "start_time": "2025-03-21T23:48:10.234Z"
   },
   {
    "duration": 5,
    "start_time": "2025-03-21T23:48:10.540Z"
   },
   {
    "duration": 49328,
    "start_time": "2025-03-21T23:48:10.547Z"
   },
   {
    "duration": 719,
    "start_time": "2025-03-21T23:48:59.877Z"
   },
   {
    "duration": 5,
    "start_time": "2025-03-21T23:49:00.598Z"
   },
   {
    "duration": 7397,
    "start_time": "2025-03-21T23:49:00.604Z"
   },
   {
    "duration": 296,
    "start_time": "2025-03-21T23:49:08.003Z"
   },
   {
    "duration": 1862,
    "start_time": "2025-03-23T08:48:10.733Z"
   },
   {
    "duration": 4,
    "start_time": "2025-03-23T08:48:12.597Z"
   },
   {
    "duration": 36,
    "start_time": "2025-03-23T08:48:12.602Z"
   },
   {
    "duration": 26,
    "start_time": "2025-03-23T08:48:12.639Z"
   },
   {
    "duration": 90,
    "start_time": "2025-03-23T08:48:12.666Z"
   },
   {
    "duration": 10,
    "start_time": "2025-03-23T08:48:12.757Z"
   },
   {
    "duration": 3,
    "start_time": "2025-03-23T08:48:12.769Z"
   },
   {
    "duration": 841,
    "start_time": "2025-03-23T08:48:12.773Z"
   },
   {
    "duration": 3,
    "start_time": "2025-03-23T08:48:13.615Z"
   },
   {
    "duration": 35,
    "start_time": "2025-03-23T08:48:13.621Z"
   },
   {
    "duration": 4,
    "start_time": "2025-03-23T08:48:13.657Z"
   },
   {
    "duration": 10,
    "start_time": "2025-03-23T08:48:13.662Z"
   },
   {
    "duration": 24,
    "start_time": "2025-03-23T08:48:13.674Z"
   },
   {
    "duration": 80,
    "start_time": "2025-03-23T08:48:13.699Z"
   },
   {
    "duration": 0,
    "start_time": "2025-03-23T08:48:13.781Z"
   },
   {
    "duration": 0,
    "start_time": "2025-03-23T08:48:13.783Z"
   },
   {
    "duration": 0,
    "start_time": "2025-03-23T08:48:13.784Z"
   },
   {
    "duration": 0,
    "start_time": "2025-03-23T08:48:13.786Z"
   },
   {
    "duration": 0,
    "start_time": "2025-03-23T08:48:13.787Z"
   },
   {
    "duration": 0,
    "start_time": "2025-03-23T08:48:13.788Z"
   },
   {
    "duration": 0,
    "start_time": "2025-03-23T08:48:13.790Z"
   },
   {
    "duration": 0,
    "start_time": "2025-03-23T08:48:13.791Z"
   },
   {
    "duration": 0,
    "start_time": "2025-03-23T08:48:13.792Z"
   },
   {
    "duration": 0,
    "start_time": "2025-03-23T08:48:13.794Z"
   },
   {
    "duration": 0,
    "start_time": "2025-03-23T08:48:13.795Z"
   },
   {
    "duration": 0,
    "start_time": "2025-03-23T08:48:13.796Z"
   },
   {
    "duration": 0,
    "start_time": "2025-03-23T08:48:13.798Z"
   },
   {
    "duration": 0,
    "start_time": "2025-03-23T08:48:13.799Z"
   },
   {
    "duration": 0,
    "start_time": "2025-03-23T08:48:13.801Z"
   },
   {
    "duration": 0,
    "start_time": "2025-03-23T08:48:13.802Z"
   },
   {
    "duration": 0,
    "start_time": "2025-03-23T08:48:13.803Z"
   },
   {
    "duration": 0,
    "start_time": "2025-03-23T08:48:13.805Z"
   },
   {
    "duration": 0,
    "start_time": "2025-03-23T08:48:13.806Z"
   },
   {
    "duration": 0,
    "start_time": "2025-03-23T08:48:13.807Z"
   },
   {
    "duration": 0,
    "start_time": "2025-03-23T08:48:13.809Z"
   },
   {
    "duration": 0,
    "start_time": "2025-03-23T08:48:13.810Z"
   },
   {
    "duration": 4,
    "start_time": "2025-03-23T08:48:25.597Z"
   },
   {
    "duration": 4,
    "start_time": "2025-03-23T08:48:35.017Z"
   },
   {
    "duration": 1638,
    "start_time": "2025-03-23T08:52:29.098Z"
   },
   {
    "duration": 3,
    "start_time": "2025-03-23T08:52:30.738Z"
   },
   {
    "duration": 15,
    "start_time": "2025-03-23T08:52:30.743Z"
   },
   {
    "duration": 7,
    "start_time": "2025-03-23T08:52:30.759Z"
   },
   {
    "duration": 109,
    "start_time": "2025-03-23T08:52:30.767Z"
   },
   {
    "duration": 9,
    "start_time": "2025-03-23T08:52:30.878Z"
   },
   {
    "duration": 17,
    "start_time": "2025-03-23T08:52:30.888Z"
   },
   {
    "duration": 820,
    "start_time": "2025-03-23T08:52:30.906Z"
   },
   {
    "duration": 3,
    "start_time": "2025-03-23T08:52:31.727Z"
   },
   {
    "duration": 55,
    "start_time": "2025-03-23T08:52:31.732Z"
   },
   {
    "duration": 10,
    "start_time": "2025-03-23T08:52:31.788Z"
   },
   {
    "duration": 16,
    "start_time": "2025-03-23T08:52:31.800Z"
   },
   {
    "duration": 6,
    "start_time": "2025-03-23T08:52:31.817Z"
   },
   {
    "duration": 78,
    "start_time": "2025-03-23T08:52:31.824Z"
   },
   {
    "duration": 0,
    "start_time": "2025-03-23T08:52:31.904Z"
   },
   {
    "duration": 0,
    "start_time": "2025-03-23T08:52:31.905Z"
   },
   {
    "duration": 0,
    "start_time": "2025-03-23T08:52:31.906Z"
   },
   {
    "duration": 0,
    "start_time": "2025-03-23T08:52:31.906Z"
   },
   {
    "duration": 0,
    "start_time": "2025-03-23T08:52:31.907Z"
   },
   {
    "duration": 0,
    "start_time": "2025-03-23T08:52:31.908Z"
   },
   {
    "duration": 0,
    "start_time": "2025-03-23T08:52:31.909Z"
   },
   {
    "duration": 0,
    "start_time": "2025-03-23T08:52:31.909Z"
   },
   {
    "duration": 0,
    "start_time": "2025-03-23T08:52:31.910Z"
   },
   {
    "duration": 0,
    "start_time": "2025-03-23T08:52:31.911Z"
   },
   {
    "duration": 0,
    "start_time": "2025-03-23T08:52:31.912Z"
   },
   {
    "duration": 0,
    "start_time": "2025-03-23T08:52:31.913Z"
   },
   {
    "duration": 0,
    "start_time": "2025-03-23T08:52:31.914Z"
   },
   {
    "duration": 0,
    "start_time": "2025-03-23T08:52:31.915Z"
   },
   {
    "duration": 0,
    "start_time": "2025-03-23T08:52:31.916Z"
   },
   {
    "duration": 0,
    "start_time": "2025-03-23T08:52:31.917Z"
   },
   {
    "duration": 0,
    "start_time": "2025-03-23T08:52:31.918Z"
   },
   {
    "duration": 0,
    "start_time": "2025-03-23T08:52:31.919Z"
   },
   {
    "duration": 0,
    "start_time": "2025-03-23T08:52:31.919Z"
   },
   {
    "duration": 0,
    "start_time": "2025-03-23T08:52:31.920Z"
   },
   {
    "duration": 0,
    "start_time": "2025-03-23T08:52:31.921Z"
   },
   {
    "duration": 0,
    "start_time": "2025-03-23T08:52:31.922Z"
   },
   {
    "duration": 4,
    "start_time": "2025-03-23T08:53:17.326Z"
   },
   {
    "duration": 4,
    "start_time": "2025-03-23T08:53:18.500Z"
   },
   {
    "duration": 1707,
    "start_time": "2025-03-23T09:08:02.997Z"
   },
   {
    "duration": 5,
    "start_time": "2025-03-23T09:08:04.706Z"
   },
   {
    "duration": 11,
    "start_time": "2025-03-23T09:08:04.713Z"
   },
   {
    "duration": 58,
    "start_time": "2025-03-23T09:08:04.726Z"
   },
   {
    "duration": 102,
    "start_time": "2025-03-23T09:08:04.785Z"
   },
   {
    "duration": 11,
    "start_time": "2025-03-23T09:08:04.889Z"
   },
   {
    "duration": 75,
    "start_time": "2025-03-23T09:08:04.902Z"
   },
   {
    "duration": 0,
    "start_time": "2025-03-23T09:08:04.980Z"
   },
   {
    "duration": 0,
    "start_time": "2025-03-23T09:08:04.981Z"
   },
   {
    "duration": 0,
    "start_time": "2025-03-23T09:08:04.983Z"
   },
   {
    "duration": 0,
    "start_time": "2025-03-23T09:08:04.984Z"
   },
   {
    "duration": 0,
    "start_time": "2025-03-23T09:08:04.985Z"
   },
   {
    "duration": 0,
    "start_time": "2025-03-23T09:08:04.986Z"
   },
   {
    "duration": 0,
    "start_time": "2025-03-23T09:08:04.988Z"
   },
   {
    "duration": 0,
    "start_time": "2025-03-23T09:08:04.989Z"
   },
   {
    "duration": 0,
    "start_time": "2025-03-23T09:08:04.991Z"
   },
   {
    "duration": 0,
    "start_time": "2025-03-23T09:08:04.992Z"
   },
   {
    "duration": 0,
    "start_time": "2025-03-23T09:08:04.993Z"
   },
   {
    "duration": 0,
    "start_time": "2025-03-23T09:08:04.995Z"
   },
   {
    "duration": 0,
    "start_time": "2025-03-23T09:08:04.996Z"
   },
   {
    "duration": 0,
    "start_time": "2025-03-23T09:08:04.997Z"
   },
   {
    "duration": 0,
    "start_time": "2025-03-23T09:08:04.998Z"
   },
   {
    "duration": 0,
    "start_time": "2025-03-23T09:08:04.999Z"
   },
   {
    "duration": 0,
    "start_time": "2025-03-23T09:08:05.000Z"
   },
   {
    "duration": 0,
    "start_time": "2025-03-23T09:08:05.002Z"
   },
   {
    "duration": 0,
    "start_time": "2025-03-23T09:08:05.003Z"
   },
   {
    "duration": 0,
    "start_time": "2025-03-23T09:08:05.004Z"
   },
   {
    "duration": 0,
    "start_time": "2025-03-23T09:08:05.006Z"
   },
   {
    "duration": 0,
    "start_time": "2025-03-23T09:08:05.007Z"
   },
   {
    "duration": 0,
    "start_time": "2025-03-23T09:08:05.009Z"
   },
   {
    "duration": 0,
    "start_time": "2025-03-23T09:08:05.010Z"
   },
   {
    "duration": 0,
    "start_time": "2025-03-23T09:08:05.012Z"
   },
   {
    "duration": 0,
    "start_time": "2025-03-23T09:08:05.013Z"
   },
   {
    "duration": 0,
    "start_time": "2025-03-23T09:08:05.015Z"
   },
   {
    "duration": 0,
    "start_time": "2025-03-23T09:08:05.056Z"
   },
   {
    "duration": 0,
    "start_time": "2025-03-23T09:08:05.057Z"
   },
   {
    "duration": 0,
    "start_time": "2025-03-23T09:08:05.059Z"
   },
   {
    "duration": 5,
    "start_time": "2025-03-23T09:08:16.991Z"
   },
   {
    "duration": 2,
    "start_time": "2025-03-23T09:12:10.660Z"
   },
   {
    "duration": 835,
    "start_time": "2025-03-23T09:12:11.427Z"
   },
   {
    "duration": 3,
    "start_time": "2025-03-23T09:12:40.137Z"
   },
   {
    "duration": 18,
    "start_time": "2025-03-23T09:13:00.056Z"
   },
   {
    "duration": 2,
    "start_time": "2025-03-23T09:13:45.907Z"
   },
   {
    "duration": 279,
    "start_time": "2025-03-23T09:13:47.805Z"
   },
   {
    "duration": 4,
    "start_time": "2025-03-23T09:16:51.582Z"
   },
   {
    "duration": 4,
    "start_time": "2025-03-23T09:26:42.405Z"
   },
   {
    "duration": 4,
    "start_time": "2025-03-23T09:26:50.472Z"
   },
   {
    "duration": 3,
    "start_time": "2025-03-23T09:26:54.889Z"
   },
   {
    "duration": 4,
    "start_time": "2025-03-23T09:27:05.085Z"
   },
   {
    "duration": 5,
    "start_time": "2025-03-23T09:27:08.747Z"
   },
   {
    "duration": 3,
    "start_time": "2025-03-23T09:31:04.887Z"
   },
   {
    "duration": 239,
    "start_time": "2025-03-23T09:31:06.254Z"
   },
   {
    "duration": 3739,
    "start_time": "2025-03-23T09:41:04.169Z"
   },
   {
    "duration": 30,
    "start_time": "2025-03-23T09:45:00.407Z"
   },
   {
    "duration": 717,
    "start_time": "2025-03-23T09:46:07.040Z"
   },
   {
    "duration": 3,
    "start_time": "2025-03-23T09:52:23.530Z"
   },
   {
    "duration": 4,
    "start_time": "2025-03-23T09:52:24.980Z"
   },
   {
    "duration": 3,
    "start_time": "2025-03-23T09:52:33.864Z"
   },
   {
    "duration": 138,
    "start_time": "2025-03-23T09:52:55.057Z"
   },
   {
    "duration": 13,
    "start_time": "2025-03-23T09:53:36.212Z"
   },
   {
    "duration": 14,
    "start_time": "2025-03-23T09:54:21.968Z"
   },
   {
    "duration": 2641,
    "start_time": "2025-03-23T09:55:06.707Z"
   },
   {
    "duration": 1789,
    "start_time": "2025-03-23T09:55:09.350Z"
   },
   {
    "duration": 4,
    "start_time": "2025-03-23T09:55:11.141Z"
   },
   {
    "duration": 6,
    "start_time": "2025-03-23T09:55:11.146Z"
   },
   {
    "duration": 4,
    "start_time": "2025-03-23T09:55:11.153Z"
   },
   {
    "duration": 30,
    "start_time": "2025-03-23T09:55:11.158Z"
   },
   {
    "duration": 10,
    "start_time": "2025-03-23T09:55:11.190Z"
   },
   {
    "duration": 13,
    "start_time": "2025-03-23T09:55:11.201Z"
   },
   {
    "duration": 98,
    "start_time": "2025-03-23T09:55:11.215Z"
   },
   {
    "duration": 923,
    "start_time": "2025-03-23T09:55:11.315Z"
   },
   {
    "duration": 3,
    "start_time": "2025-03-23T09:55:12.239Z"
   },
   {
    "duration": 23,
    "start_time": "2025-03-23T09:55:12.255Z"
   },
   {
    "duration": 3,
    "start_time": "2025-03-23T09:55:12.279Z"
   },
   {
    "duration": 344,
    "start_time": "2025-03-23T09:55:12.283Z"
   },
   {
    "duration": 3,
    "start_time": "2025-03-23T09:55:12.629Z"
   },
   {
    "duration": 17,
    "start_time": "2025-03-23T09:55:12.633Z"
   },
   {
    "duration": 7,
    "start_time": "2025-03-23T09:55:12.651Z"
   },
   {
    "duration": 4,
    "start_time": "2025-03-23T09:55:12.659Z"
   },
   {
    "duration": 5,
    "start_time": "2025-03-23T09:55:12.664Z"
   },
   {
    "duration": 16,
    "start_time": "2025-03-23T09:55:12.670Z"
   },
   {
    "duration": 10,
    "start_time": "2025-03-23T09:55:12.687Z"
   },
   {
    "duration": 228,
    "start_time": "2025-03-23T09:55:12.698Z"
   },
   {
    "duration": 656,
    "start_time": "2025-03-23T09:55:12.927Z"
   },
   {
    "duration": 3,
    "start_time": "2025-03-23T09:55:13.585Z"
   },
   {
    "duration": 37,
    "start_time": "2025-03-23T09:55:13.590Z"
   },
   {
    "duration": 3,
    "start_time": "2025-03-23T09:55:13.628Z"
   },
   {
    "duration": 132,
    "start_time": "2025-03-23T09:55:13.632Z"
   },
   {
    "duration": 0,
    "start_time": "2025-03-23T09:55:13.766Z"
   },
   {
    "duration": 0,
    "start_time": "2025-03-23T09:55:13.767Z"
   },
   {
    "duration": 0,
    "start_time": "2025-03-23T09:55:13.768Z"
   },
   {
    "duration": 0,
    "start_time": "2025-03-23T09:55:13.769Z"
   },
   {
    "duration": 0,
    "start_time": "2025-03-23T09:55:13.770Z"
   },
   {
    "duration": 0,
    "start_time": "2025-03-23T09:55:13.771Z"
   },
   {
    "duration": 0,
    "start_time": "2025-03-23T09:55:13.772Z"
   },
   {
    "duration": 0,
    "start_time": "2025-03-23T09:55:13.773Z"
   },
   {
    "duration": 0,
    "start_time": "2025-03-23T09:55:13.774Z"
   },
   {
    "duration": 0,
    "start_time": "2025-03-23T09:55:13.774Z"
   },
   {
    "duration": 0,
    "start_time": "2025-03-23T09:55:13.775Z"
   },
   {
    "duration": 0,
    "start_time": "2025-03-23T09:55:13.776Z"
   },
   {
    "duration": 0,
    "start_time": "2025-03-23T09:55:13.777Z"
   },
   {
    "duration": 0,
    "start_time": "2025-03-23T09:55:13.777Z"
   },
   {
    "duration": 0,
    "start_time": "2025-03-23T09:55:13.778Z"
   },
   {
    "duration": 8858,
    "start_time": "2025-03-23T09:58:56.552Z"
   },
   {
    "duration": 4985,
    "start_time": "2025-03-23T09:59:10.013Z"
   },
   {
    "duration": 26,
    "start_time": "2025-03-23T09:59:26.638Z"
   },
   {
    "duration": 5154,
    "start_time": "2025-03-23T09:59:35.802Z"
   },
   {
    "duration": 1737,
    "start_time": "2025-03-23T09:59:40.959Z"
   },
   {
    "duration": 3,
    "start_time": "2025-03-23T09:59:42.698Z"
   },
   {
    "duration": 5,
    "start_time": "2025-03-23T09:59:42.703Z"
   },
   {
    "duration": 21,
    "start_time": "2025-03-23T09:59:42.709Z"
   },
   {
    "duration": 90,
    "start_time": "2025-03-23T09:59:42.732Z"
   },
   {
    "duration": 10,
    "start_time": "2025-03-23T09:59:42.823Z"
   },
   {
    "duration": 5,
    "start_time": "2025-03-23T09:59:42.834Z"
   },
   {
    "duration": 3,
    "start_time": "2025-03-23T09:59:42.840Z"
   },
   {
    "duration": 794,
    "start_time": "2025-03-23T09:59:42.845Z"
   },
   {
    "duration": 3,
    "start_time": "2025-03-23T09:59:43.640Z"
   },
   {
    "duration": 26,
    "start_time": "2025-03-23T09:59:43.645Z"
   },
   {
    "duration": 2,
    "start_time": "2025-03-23T09:59:43.672Z"
   },
   {
    "duration": 277,
    "start_time": "2025-03-23T09:59:43.675Z"
   },
   {
    "duration": 3,
    "start_time": "2025-03-23T09:59:43.956Z"
   },
   {
    "duration": 4,
    "start_time": "2025-03-23T09:59:43.960Z"
   },
   {
    "duration": 5,
    "start_time": "2025-03-23T09:59:43.966Z"
   },
   {
    "duration": 12,
    "start_time": "2025-03-23T09:59:43.972Z"
   },
   {
    "duration": 4,
    "start_time": "2025-03-23T09:59:43.985Z"
   },
   {
    "duration": 12,
    "start_time": "2025-03-23T09:59:43.990Z"
   },
   {
    "duration": 2,
    "start_time": "2025-03-23T09:59:44.003Z"
   },
   {
    "duration": 227,
    "start_time": "2025-03-23T09:59:44.007Z"
   },
   {
    "duration": 646,
    "start_time": "2025-03-23T09:59:44.236Z"
   },
   {
    "duration": 4,
    "start_time": "2025-03-23T09:59:44.884Z"
   },
   {
    "duration": 5,
    "start_time": "2025-03-23T09:59:44.890Z"
   },
   {
    "duration": 5,
    "start_time": "2025-03-23T09:59:44.896Z"
   },
   {
    "duration": 149,
    "start_time": "2025-03-23T09:59:44.902Z"
   },
   {
    "duration": 0,
    "start_time": "2025-03-23T09:59:45.056Z"
   },
   {
    "duration": 0,
    "start_time": "2025-03-23T09:59:45.057Z"
   },
   {
    "duration": 0,
    "start_time": "2025-03-23T09:59:45.058Z"
   },
   {
    "duration": 0,
    "start_time": "2025-03-23T09:59:45.060Z"
   },
   {
    "duration": 0,
    "start_time": "2025-03-23T09:59:45.061Z"
   },
   {
    "duration": 0,
    "start_time": "2025-03-23T09:59:45.063Z"
   },
   {
    "duration": 0,
    "start_time": "2025-03-23T09:59:45.064Z"
   },
   {
    "duration": 0,
    "start_time": "2025-03-23T09:59:45.065Z"
   },
   {
    "duration": 0,
    "start_time": "2025-03-23T09:59:45.066Z"
   },
   {
    "duration": 0,
    "start_time": "2025-03-23T09:59:45.068Z"
   },
   {
    "duration": 0,
    "start_time": "2025-03-23T09:59:45.069Z"
   },
   {
    "duration": 0,
    "start_time": "2025-03-23T09:59:45.070Z"
   },
   {
    "duration": 0,
    "start_time": "2025-03-23T09:59:45.071Z"
   },
   {
    "duration": 0,
    "start_time": "2025-03-23T09:59:45.073Z"
   },
   {
    "duration": 0,
    "start_time": "2025-03-23T09:59:45.074Z"
   },
   {
    "duration": 16,
    "start_time": "2025-03-23T10:03:29.106Z"
   },
   {
    "duration": 4925,
    "start_time": "2025-03-23T10:09:10.066Z"
   },
   {
    "duration": 1682,
    "start_time": "2025-03-23T10:09:14.993Z"
   },
   {
    "duration": 4,
    "start_time": "2025-03-23T10:09:16.680Z"
   },
   {
    "duration": 42,
    "start_time": "2025-03-23T10:09:16.686Z"
   },
   {
    "duration": 26,
    "start_time": "2025-03-23T10:09:16.731Z"
   },
   {
    "duration": 39,
    "start_time": "2025-03-23T10:09:16.758Z"
   },
   {
    "duration": 10,
    "start_time": "2025-03-23T10:09:16.798Z"
   },
   {
    "duration": 13,
    "start_time": "2025-03-23T10:09:16.809Z"
   },
   {
    "duration": 6,
    "start_time": "2025-03-23T10:09:16.825Z"
   },
   {
    "duration": 829,
    "start_time": "2025-03-23T10:09:16.832Z"
   },
   {
    "duration": 3,
    "start_time": "2025-03-23T10:09:17.662Z"
   },
   {
    "duration": 20,
    "start_time": "2025-03-23T10:09:17.666Z"
   },
   {
    "duration": 2,
    "start_time": "2025-03-23T10:09:17.687Z"
   },
   {
    "duration": 289,
    "start_time": "2025-03-23T10:09:17.690Z"
   },
   {
    "duration": 3,
    "start_time": "2025-03-23T10:09:17.980Z"
   },
   {
    "duration": 7,
    "start_time": "2025-03-23T10:09:17.985Z"
   },
   {
    "duration": 19,
    "start_time": "2025-03-23T10:09:17.993Z"
   },
   {
    "duration": 12,
    "start_time": "2025-03-23T10:09:18.014Z"
   },
   {
    "duration": 20,
    "start_time": "2025-03-23T10:09:18.027Z"
   },
   {
    "duration": 14,
    "start_time": "2025-03-23T10:09:18.048Z"
   },
   {
    "duration": 7,
    "start_time": "2025-03-23T10:09:18.063Z"
   },
   {
    "duration": 241,
    "start_time": "2025-03-23T10:09:18.072Z"
   },
   {
    "duration": 671,
    "start_time": "2025-03-23T10:09:18.315Z"
   },
   {
    "duration": 4,
    "start_time": "2025-03-23T10:09:18.987Z"
   },
   {
    "duration": 8,
    "start_time": "2025-03-23T10:09:18.992Z"
   },
   {
    "duration": 3,
    "start_time": "2025-03-23T10:09:19.002Z"
   },
   {
    "duration": 16,
    "start_time": "2025-03-23T10:09:19.008Z"
   },
   {
    "duration": 81,
    "start_time": "2025-03-23T10:09:19.025Z"
   },
   {
    "duration": 0,
    "start_time": "2025-03-23T10:09:19.107Z"
   },
   {
    "duration": 0,
    "start_time": "2025-03-23T10:09:19.108Z"
   },
   {
    "duration": 0,
    "start_time": "2025-03-23T10:09:19.109Z"
   },
   {
    "duration": 0,
    "start_time": "2025-03-23T10:09:19.110Z"
   },
   {
    "duration": 0,
    "start_time": "2025-03-23T10:09:19.111Z"
   },
   {
    "duration": 0,
    "start_time": "2025-03-23T10:09:19.112Z"
   },
   {
    "duration": 0,
    "start_time": "2025-03-23T10:09:19.113Z"
   },
   {
    "duration": 0,
    "start_time": "2025-03-23T10:09:19.114Z"
   },
   {
    "duration": 1,
    "start_time": "2025-03-23T10:09:19.114Z"
   },
   {
    "duration": 0,
    "start_time": "2025-03-23T10:09:19.116Z"
   },
   {
    "duration": 0,
    "start_time": "2025-03-23T10:09:19.117Z"
   },
   {
    "duration": 0,
    "start_time": "2025-03-23T10:09:19.118Z"
   },
   {
    "duration": 0,
    "start_time": "2025-03-23T10:09:19.119Z"
   },
   {
    "duration": 0,
    "start_time": "2025-03-23T10:09:19.120Z"
   },
   {
    "duration": 11,
    "start_time": "2025-03-23T10:14:56.904Z"
   },
   {
    "duration": 4,
    "start_time": "2025-03-23T10:15:01.888Z"
   },
   {
    "duration": 3,
    "start_time": "2025-03-23T10:22:22.568Z"
   },
   {
    "duration": 4,
    "start_time": "2025-03-23T10:22:26.606Z"
   },
   {
    "duration": 3,
    "start_time": "2025-03-23T10:22:28.791Z"
   },
   {
    "duration": 3,
    "start_time": "2025-03-23T10:22:31.090Z"
   },
   {
    "duration": 3,
    "start_time": "2025-03-23T10:22:34.192Z"
   },
   {
    "duration": 5486,
    "start_time": "2025-03-23T10:22:37.670Z"
   },
   {
    "duration": 284,
    "start_time": "2025-03-23T10:22:55.649Z"
   },
   {
    "duration": 4,
    "start_time": "2025-03-23T10:25:56.531Z"
   },
   {
    "duration": 42231,
    "start_time": "2025-03-23T10:27:43.643Z"
   },
   {
    "duration": 267,
    "start_time": "2025-03-23T10:28:47.102Z"
   },
   {
    "duration": 5,
    "start_time": "2025-03-23T10:44:47.011Z"
   },
   {
    "duration": 5748,
    "start_time": "2025-03-23T10:44:50.676Z"
   },
   {
    "duration": 292,
    "start_time": "2025-03-23T10:45:01.743Z"
   },
   {
    "duration": 35652,
    "start_time": "2025-03-24T00:46:52.238Z"
   },
   {
    "duration": 3415,
    "start_time": "2025-03-24T00:47:27.893Z"
   },
   {
    "duration": 49,
    "start_time": "2025-03-24T00:47:31.310Z"
   },
   {
    "duration": 21,
    "start_time": "2025-03-24T00:47:31.361Z"
   },
   {
    "duration": 4,
    "start_time": "2025-03-24T00:47:31.384Z"
   },
   {
    "duration": 78,
    "start_time": "2025-03-24T00:47:31.389Z"
   },
   {
    "duration": 12,
    "start_time": "2025-03-24T00:47:31.468Z"
   },
   {
    "duration": 10,
    "start_time": "2025-03-24T00:47:31.482Z"
   },
   {
    "duration": 66,
    "start_time": "2025-03-24T00:47:31.493Z"
   },
   {
    "duration": 1994,
    "start_time": "2025-03-24T00:47:31.564Z"
   },
   {
    "duration": 3,
    "start_time": "2025-03-24T00:47:33.560Z"
   },
   {
    "duration": 35,
    "start_time": "2025-03-24T00:47:33.565Z"
   },
   {
    "duration": 56,
    "start_time": "2025-03-24T00:47:33.602Z"
   },
   {
    "duration": 807,
    "start_time": "2025-03-24T00:47:33.660Z"
   },
   {
    "duration": 4,
    "start_time": "2025-03-24T00:47:34.468Z"
   },
   {
    "duration": 14,
    "start_time": "2025-03-24T00:47:34.474Z"
   },
   {
    "duration": 5,
    "start_time": "2025-03-24T00:47:34.489Z"
   },
   {
    "duration": 65,
    "start_time": "2025-03-24T00:47:34.495Z"
   },
   {
    "duration": 5,
    "start_time": "2025-03-24T00:47:34.561Z"
   },
   {
    "duration": 17,
    "start_time": "2025-03-24T00:47:34.568Z"
   },
   {
    "duration": 91,
    "start_time": "2025-03-24T00:47:34.586Z"
   },
   {
    "duration": 509,
    "start_time": "2025-03-24T00:47:34.678Z"
   },
   {
    "duration": 1408,
    "start_time": "2025-03-24T00:47:35.189Z"
   },
   {
    "duration": 60,
    "start_time": "2025-03-24T00:47:36.598Z"
   },
   {
    "duration": 31,
    "start_time": "2025-03-24T00:47:36.660Z"
   },
   {
    "duration": 6,
    "start_time": "2025-03-24T00:47:36.693Z"
   },
   {
    "duration": 11,
    "start_time": "2025-03-24T00:47:36.701Z"
   },
   {
    "duration": 14,
    "start_time": "2025-03-24T00:47:36.759Z"
   },
   {
    "duration": 213,
    "start_time": "2025-03-24T00:47:36.774Z"
   },
   {
    "duration": 4,
    "start_time": "2025-03-24T00:47:36.989Z"
   },
   {
    "duration": 12,
    "start_time": "2025-03-24T00:47:36.995Z"
   },
   {
    "duration": 49,
    "start_time": "2025-03-24T00:47:37.009Z"
   },
   {
    "duration": 3,
    "start_time": "2025-03-24T00:47:37.060Z"
   },
   {
    "duration": 4,
    "start_time": "2025-03-24T00:47:37.064Z"
   },
   {
    "duration": 3,
    "start_time": "2025-03-24T00:47:37.070Z"
   },
   {
    "duration": 15016,
    "start_time": "2025-03-24T00:47:37.075Z"
   },
   {
    "duration": 708,
    "start_time": "2025-03-24T00:47:52.093Z"
   },
   {
    "duration": 5,
    "start_time": "2025-03-24T00:47:52.857Z"
   },
   {
    "duration": 63994,
    "start_time": "2025-03-24T00:47:52.864Z"
   },
   {
    "duration": 623,
    "start_time": "2025-03-24T00:48:56.860Z"
   },
   {
    "duration": 5,
    "start_time": "2025-03-24T00:48:57.485Z"
   },
   {
    "duration": 15899,
    "start_time": "2025-03-24T00:48:57.492Z"
   },
   {
    "duration": 688,
    "start_time": "2025-03-24T00:49:13.393Z"
   },
   {
    "duration": 4681,
    "start_time": "2025-03-24T00:52:51.026Z"
   },
   {
    "duration": 1812,
    "start_time": "2025-03-24T00:52:55.710Z"
   },
   {
    "duration": 5,
    "start_time": "2025-03-24T00:52:57.523Z"
   },
   {
    "duration": 35,
    "start_time": "2025-03-24T00:52:57.529Z"
   },
   {
    "duration": 4,
    "start_time": "2025-03-24T00:52:57.566Z"
   },
   {
    "duration": 28,
    "start_time": "2025-03-24T00:52:57.572Z"
   },
   {
    "duration": 10,
    "start_time": "2025-03-24T00:52:57.602Z"
   },
   {
    "duration": 143,
    "start_time": "2025-03-24T00:52:57.614Z"
   },
   {
    "duration": 3,
    "start_time": "2025-03-24T00:52:57.759Z"
   },
   {
    "duration": 966,
    "start_time": "2025-03-24T00:52:57.763Z"
   },
   {
    "duration": 4,
    "start_time": "2025-03-24T00:52:58.730Z"
   },
   {
    "duration": 35,
    "start_time": "2025-03-24T00:52:58.735Z"
   },
   {
    "duration": 3,
    "start_time": "2025-03-24T00:52:58.771Z"
   },
   {
    "duration": 338,
    "start_time": "2025-03-24T00:52:58.777Z"
   },
   {
    "duration": 3,
    "start_time": "2025-03-24T00:52:59.116Z"
   },
   {
    "duration": 10,
    "start_time": "2025-03-24T00:52:59.120Z"
   },
   {
    "duration": 5,
    "start_time": "2025-03-24T00:52:59.131Z"
   },
   {
    "duration": 20,
    "start_time": "2025-03-24T00:52:59.138Z"
   },
   {
    "duration": 4,
    "start_time": "2025-03-24T00:52:59.160Z"
   },
   {
    "duration": 13,
    "start_time": "2025-03-24T00:52:59.166Z"
   },
   {
    "duration": 8,
    "start_time": "2025-03-24T00:52:59.180Z"
   },
   {
    "duration": 263,
    "start_time": "2025-03-24T00:52:59.189Z"
   },
   {
    "duration": 715,
    "start_time": "2025-03-24T00:52:59.457Z"
   },
   {
    "duration": 4,
    "start_time": "2025-03-24T00:53:00.173Z"
   },
   {
    "duration": 43,
    "start_time": "2025-03-24T00:53:00.179Z"
   },
   {
    "duration": 15,
    "start_time": "2025-03-24T00:53:00.223Z"
   },
   {
    "duration": 26,
    "start_time": "2025-03-24T00:53:00.239Z"
   },
   {
    "duration": 28,
    "start_time": "2025-03-24T00:53:00.267Z"
   },
   {
    "duration": 12,
    "start_time": "2025-03-24T00:53:00.297Z"
   },
   {
    "duration": 14,
    "start_time": "2025-03-24T00:53:00.310Z"
   },
   {
    "duration": 15,
    "start_time": "2025-03-24T00:53:00.326Z"
   },
   {
    "duration": 21,
    "start_time": "2025-03-24T00:53:00.343Z"
   },
   {
    "duration": 79,
    "start_time": "2025-03-24T00:53:00.365Z"
   },
   {
    "duration": 9,
    "start_time": "2025-03-24T00:53:00.445Z"
   },
   {
    "duration": 7365,
    "start_time": "2025-03-24T00:53:00.456Z"
   },
   {
    "duration": 317,
    "start_time": "2025-03-24T00:53:07.823Z"
   },
   {
    "duration": 5,
    "start_time": "2025-03-24T00:53:08.141Z"
   },
   {
    "duration": 52410,
    "start_time": "2025-03-24T00:53:08.157Z"
   },
   {
    "duration": 363,
    "start_time": "2025-03-24T00:54:00.569Z"
   },
   {
    "duration": 5,
    "start_time": "2025-03-24T00:54:00.934Z"
   },
   {
    "duration": 7760,
    "start_time": "2025-03-24T00:54:00.942Z"
   },
   {
    "duration": 329,
    "start_time": "2025-03-24T00:54:08.703Z"
   }
  ],
  "kernelspec": {
   "display_name": "Python 3 (ipykernel)",
   "language": "python",
   "name": "python3"
  },
  "language_info": {
   "codemirror_mode": {
    "name": "ipython",
    "version": 3
   },
   "file_extension": ".py",
   "mimetype": "text/x-python",
   "name": "python",
   "nbconvert_exporter": "python",
   "pygments_lexer": "ipython3",
   "version": "3.11.5"
  },
  "toc": {
   "base_numbering": 1,
   "nav_menu": {},
   "number_sections": false,
   "sideBar": true,
   "skip_h1_title": false,
   "title_cell": "Table of Contents",
   "title_sidebar": "Contents",
   "toc_cell": false,
   "toc_position": {},
   "toc_section_display": true,
   "toc_window_display": false
  },
  "varInspector": {
   "cols": {
    "lenName": 16,
    "lenType": 16,
    "lenVar": 40
   },
   "kernels_config": {
    "python": {
     "delete_cmd_postfix": "",
     "delete_cmd_prefix": "del ",
     "library": "var_list.py",
     "varRefreshCmd": "print(var_dic_list())"
    },
    "r": {
     "delete_cmd_postfix": ") ",
     "delete_cmd_prefix": "rm(",
     "library": "var_list.r",
     "varRefreshCmd": "cat(var_dic_list()) "
    }
   },
   "types_to_exclude": [
    "module",
    "function",
    "builtin_function_or_method",
    "instance",
    "_Feature"
   ],
   "window_display": false
  }
 },
 "nbformat": 4,
 "nbformat_minor": 5
}
